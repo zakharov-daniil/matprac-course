{
 "cells": [
  {
   "cell_type": "code",
   "execution_count": 31,
   "metadata": {},
   "outputs": [],
   "source": [
    "import numpy as np"
   ]
  },
  {
   "cell_type": "markdown",
   "metadata": {},
   "source": [
    "Первая задача"
   ]
  },
  {
   "cell_type": "code",
   "execution_count": 39,
   "metadata": {},
   "outputs": [
    {
     "name": "stdout",
     "output_type": "stream",
     "text": [
      "[[0.34342817 0.75503653 0.0756037 ]\n",
      " [0.59279772 0.0683015  0.65497634]\n",
      " [0.08167489 0.45750368 0.2959456 ]\n",
      " [0.38420072 0.41498466 0.45808612]\n",
      " [0.249329   0.42300581 0.40419008]\n",
      " [0.70141284 0.40197024 0.27179368]\n",
      " [0.39919375 0.69898203 0.25308095]\n",
      " [0.91895959 0.07029976 0.81769431]\n",
      " [0.88341336 0.12026876 0.66854485]\n",
      " [0.36599982 0.30197717 0.90566451]]\n",
      "[0.34342817 0.59279772 0.45750368 0.45808612 0.42300581 0.40197024\n",
      " 0.39919375 0.81769431 0.66854485 0.36599982]\n"
     ]
    }
   ],
   "source": [
    "L = np.random.random((10,3))\n",
    "print(L)\n",
    "print(L[np.arange(10), np.argmin(np.abs(L-0.5), axis = 1)])"
   ]
  },
  {
   "cell_type": "markdown",
   "metadata": {},
   "source": [
    "Вторая задача"
   ]
  },
  {
   "cell_type": "code",
   "execution_count": 42,
   "metadata": {},
   "outputs": [
    {
     "name": "stdout",
     "output_type": "stream",
     "text": [
      "[[0.03851649 0.85160409 0.36454686 0.97192703 0.02634973 0.84273255]\n",
      " [0.46083206 0.06045861 0.89981777 0.88184364 0.56643966 0.88320417]\n",
      " [0.91520983 0.97908002 0.02589539 0.84915984 0.3772855  0.79673155]\n",
      " [0.44286795 0.44259198 0.12564075 0.7554118  0.91080151 0.56226274]\n",
      " [0.34765559 0.40374641 0.82009753 0.91584437 0.09958621 0.6487108 ]\n",
      " [0.21373457 0.92952081 0.09921868 0.30346123 0.84590281 0.59112458]]\n",
      "[ 80.37276069  62.0688407  152.28048294  10.67542225 122.79599797\n",
      "   5.30528257]\n"
     ]
    }
   ],
   "source": [
    "L = np.random.random((6,6))\n",
    "print(L)\n",
    "print(np.sum(L,axis=1)/np.min(L,axis=0))"
   ]
  },
  {
   "cell_type": "markdown",
   "metadata": {},
   "source": [
    "Третья задача"
   ]
  },
  {
   "cell_type": "code",
   "execution_count": 293,
   "metadata": {},
   "outputs": [
    {
     "name": "stdout",
     "output_type": "stream",
     "text": [
      "5\n"
     ]
    }
   ],
   "source": [
    "x = np.array([6, 2, 0, 3, 0, 0, 5, 7, 0])\n",
    "mask = x == 0\n",
    "print(np.max(x[np.delete(np.concatenate([[False],mask]),-1)]))"
   ]
  },
  {
   "cell_type": "markdown",
   "metadata": {},
   "source": [
    "Четвертая задача"
   ]
  },
  {
   "cell_type": "code",
   "execution_count": 1480,
   "metadata": {},
   "outputs": [
    {
     "name": "stdout",
     "output_type": "stream",
     "text": [
      "[2. 2. 2. 2. 1. 4. 1. 1. 2. 1.]\n"
     ]
    }
   ],
   "source": [
    "print(np.ones(10) + np.bincount(np.array([0, 1, 2, 3, 5, 5, 5, 8]),minlength = len(x)) ) "
   ]
  },
  {
   "cell_type": "markdown",
   "metadata": {},
   "source": [
    "Пятая задача -- k-means"
   ]
  },
  {
   "cell_type": "code",
   "execution_count": 783,
   "metadata": {},
   "outputs": [],
   "source": [
    "def matrNorm(X):\n",
    "    X = X * X\n",
    "    Y = np.flip(X,axis=2)\n",
    "    Z = X + Y\n",
    "    #print(Z)\n",
    "    Z = np.sum(Z,axis=0)\n",
    "    return Z[0][0]"
   ]
  },
  {
   "cell_type": "code",
   "execution_count": 982,
   "metadata": {},
   "outputs": [
    {
     "name": "stdout",
     "output_type": "stream",
     "text": [
      "[[[ 5.81818182  5.90909091]]\n",
      "\n",
      " [[-4.         -4.        ]]] 3.482517482517482\n"
     ]
    }
   ],
   "source": [
    "def kMeans(k,A,eps):\n",
    "    center = np.random.sample((k,1,2))\n",
    "    center_new = center\n",
    "    length = len(A)\n",
    "    otklon = 1\n",
    "    while otklon > eps:\n",
    "        X = A-center_new\n",
    "        #print(X)\n",
    "        X = X * X\n",
    "        #print(X)\n",
    "        Y = np.flip(X,axis=2)\n",
    "        #print(Y)\n",
    "        Z = X + Y #это матрица норм \n",
    "        #print(Z)\n",
    "        Z = np.argmin(Z,axis=0)\n",
    "        #print(Z)\n",
    "        #Z = [[1],[2],[2],[0]]\n",
    "        Z = np.delete(Z,slice(1),axis=1)\n",
    "        P = np.zeros((length,k))\n",
    "        Q = np.zeros((length,k))\n",
    "        O = np.arange(k)\n",
    "        Q = Q + O\n",
    "        P = Z + P\n",
    "        #print(Q)\n",
    "        #print(P)\n",
    "        e = np.zeros((length,k))-1\n",
    "        I = np.where(P!=Q,e,P)\n",
    "        I = np.where(I < 0, np.zeros((length,k)),np.ones((length,k)))\n",
    "        #I = np.transpose(I)\n",
    "        I1 = np.reshape(I,(length,k,1))\n",
    "        I = I1 + np.zeros((length,k,2))\n",
    "        #print(I)\n",
    "        mat = np.reshape(A,(length,1,2)) + np.zeros((length,k,2))\n",
    "        matnew = mat * I\n",
    "        #print(matnew)\n",
    "        #nonZeroCol = (matnew != 0).sum(0)\n",
    "        #print(nonZeroCol)\n",
    "        L = matnew.sum(0) / (matnew != 0).sum(0)\n",
    "        L = np.reshape(L,(k,1,2))\n",
    "        center = center_new\n",
    "        center_new = L\n",
    "        otklon = matrNorm(center_new - center)\n",
    "        #print(otklon)\n",
    "        #\n",
    "        D = np.reshape(A,(length,1,2))\n",
    "        cen2 = np.reshape(L,(1,k,2))\n",
    "        D1 = D-cen2\n",
    "        D2 = D1 * D1\n",
    "        D3 = np.flip(D2,axis=2)\n",
    "        D2 = D2 + D3\n",
    "        D3 = np.delete(D2,slice(1),axis=2)\n",
    "        D3 = D3 * I1\n",
    "        #print(I1)\n",
    "        #print(D3)\n",
    "        disp = D3.sum()/(length*length)\n",
    "        #print(disp)\n",
    "    return center_new,disp\n",
    "#Для примера взял какой-то массив и 2 кластера\n",
    "A = [[1,1],[2,2],[3,3],[4,4],[5,5],[6,6],[6,3],[2,9],[1,12],[23,9],[11,11],[-7,-7],[-1,-1]] \n",
    "eps = 0.001\n",
    "k = 2\n",
    "U,disp = kMeans(k,A,eps)\n",
    "print(U,disp)"
   ]
  },
  {
   "cell_type": "markdown",
   "metadata": {},
   "source": [
    "Шестая задача -- визуализация и Elbow method"
   ]
  },
  {
   "cell_type": "code",
   "execution_count": 1002,
   "metadata": {},
   "outputs": [
    {
     "data": {
      "text/plain": [
       "array([['0001', 'Male', '19', '15', '39'],\n",
       "       ['0002', 'Male', '21', '15', '81'],\n",
       "       ['0003', 'Female', '20', '16', '6'],\n",
       "       ['0004', 'Female', '23', '16', '77'],\n",
       "       ['0005', 'Female', '31', '17', '40']], dtype=object)"
      ]
     },
     "execution_count": 1002,
     "metadata": {},
     "output_type": "execute_result"
    }
   ],
   "source": [
    "url = 'https://raw.githubusercontent.com/sharmaroshan/Clustering-of-Mall-Customers/master/Mall_Customers.csv'\n",
    "data = np.loadtxt(url, delimiter=',', dtype=object, skiprows=1)\n",
    "data[:5]"
   ]
  },
  {
   "cell_type": "code",
   "execution_count": 1003,
   "metadata": {},
   "outputs": [
    {
     "data": {
      "text/plain": [
       "array([[ 1.,  1., 19., 15., 39.],\n",
       "       [ 2.,  1., 21., 15., 81.],\n",
       "       [ 3.,  0., 20., 16.,  6.],\n",
       "       [ 4.,  0., 23., 16., 77.],\n",
       "       [ 5.,  0., 31., 17., 40.]])"
      ]
     },
     "execution_count": 1003,
     "metadata": {},
     "output_type": "execute_result"
    }
   ],
   "source": [
    "data[:, 1] = data[:, 1] == 'Male'\n",
    "data = data.astype(float)\n",
    "data[:5]"
   ]
  },
  {
   "cell_type": "code",
   "execution_count": 985,
   "metadata": {},
   "outputs": [],
   "source": [
    "import matplotlib.pyplot as plt"
   ]
  },
  {
   "cell_type": "markdown",
   "metadata": {},
   "source": [
    "Age and actual income"
   ]
  },
  {
   "cell_type": "code",
   "execution_count": 1032,
   "metadata": {},
   "outputs": [],
   "source": [
    "age = np.reshape(data[:,2],(200,1)) / np.max(np.reshape(data[:,2],(200,1)))\n",
    "income = np.reshape(data[:,3],(200,1)) / np.max(np.reshape(data[:,3],(200,1)))\n",
    "score = np.reshape(data[:,4],(200,1)) / np.max(np.reshape(data[:,4],(200,1)))\n",
    "AgeInc = np.concatenate([age,income],axis = 1)\n",
    "#AgeInc[:5]"
   ]
  },
  {
   "cell_type": "code",
   "execution_count": 1496,
   "metadata": {
    "scrolled": true
   },
   "outputs": [
    {
     "name": "stdout",
     "output_type": "stream",
     "text": [
      "[[[0.43847926 0.52366376]]\n",
      "\n",
      " [[0.38913043 0.22834021]]\n",
      "\n",
      " [[0.79648712 0.36891229]]\n",
      "\n",
      " [[0.55898618 0.73981634]]] 9.962309102884245e-05\n"
     ]
    }
   ],
   "source": [
    "k = 2\n",
    "eps = 0.001\n",
    "over = 2\n",
    "Rez, Disp_old = kMeans(k,AgeInc,eps)\n",
    "#print(Disp_old)\n",
    "while over > 1.5:\n",
    "    k = k+1\n",
    "    Rez,Disp_new = kMeans(k,AgeInc,eps)\n",
    "    over = Disp_old / Disp_new\n",
    "    Disp_old = Disp_new\n",
    "    #print(over)\n",
    "print(Rez,Disp_new) \n",
    "#print(np.reshape(Rez,(3,2)))"
   ]
  },
  {
   "cell_type": "code",
   "execution_count": 1506,
   "metadata": {},
   "outputs": [
    {
     "name": "stdout",
     "output_type": "stream",
     "text": [
      "1\n",
      "2\n",
      "3\n",
      "4\n",
      "5\n",
      "6\n",
      "7\n"
     ]
    },
    {
     "data": {
      "text/plain": [
       "<function matplotlib.pyplot.show(*args, **kw)>"
      ]
     },
     "execution_count": 1506,
     "metadata": {},
     "output_type": "execute_result"
    },
    {
     "data": {
      "image/png": "[encoded data removed]",
      "text/plain": [
       "<Figure size 432x288 with 1 Axes>"
      ]
     },
     "metadata": {
      "needs_background": "light"
     },
     "output_type": "display_data"
    }
   ],
   "source": [
    "dis = np.zeros(7)\n",
    "for i in range (1,8):\n",
    "    print(i)\n",
    "    Ux,dis[i-1] = kMeans(i,AgeInc,eps)\n",
    "plt.plot(*np.array([np.arange(1,8),dis]))\n",
    "plt.show"
   ]
  },
  {
   "cell_type": "markdown",
   "metadata": {},
   "source": [
    "Подойдет k = 3 или 4 (я взял 4, тк 3 будет на следующем графике)"
   ]
  },
  {
   "cell_type": "code",
   "execution_count": 1168,
   "metadata": {},
   "outputs": [],
   "source": [
    "Rez = np.reshape(Rez,(4,2))\n",
    "#print(Rez)\n",
    "a = np.zeros((0,2))\n",
    "b = np.zeros((0,2))\n",
    "c = np.zeros((0,2))\n",
    "d = np.zeros((0,2))\n",
    "for i in range (0,200):\n",
    "    rast1 = (age[i][0] - Rez[0][0])*(age[i][0] - Rez[0][0]) + (income[i][0] - Rez[0][1])*(income[i][0] - Rez[0][1])\n",
    "    rast2 = (age[i][0] - Rez[1][0])*(age[i][0] - Rez[1][0]) + (income[i][0] - Rez[1][1])*(income[i][0] - Rez[1][1])\n",
    "    rast3 = (age[i][0] - Rez[2][0])*(age[i][0] - Rez[2][0]) + (income[i][0] - Rez[2][1])*(income[i][0] - Rez[2][1])\n",
    "    rast4 = (age[i][0] - Rez[3][0])*(age[i][0] - Rez[3][0]) + (income[i][0] - Rez[3][1])*(income[i][0] - Rez[3][1])\n",
    "    rast = min(rast1,rast2,rast3,rast4)\n",
    "    if rast == rast1:\n",
    "        a = np.append(a,np.reshape(AgeInc[i],(1,2)),axis = 0)\n",
    "    elif rast == rast2:\n",
    "        b = np.append(b,np.reshape(AgeInc[i],(1,2)),axis = 0)\n",
    "    elif rast == rast3:\n",
    "        c = np.append(c,np.reshape(AgeInc[i],(1,2)),axis = 0)\n",
    "    else:\n",
    "        d = np.append(d,np.reshape(AgeInc[i],(1,2)),axis = 0)"
   ]
  },
  {
   "cell_type": "code",
   "execution_count": 1171,
   "metadata": {},
   "outputs": [
    {
     "data": {
      "image/png": "[encoded data removed]",
      "text/plain": [
       "<Figure size 432x288 with 1 Axes>"
      ]
     },
     "metadata": {
      "needs_background": "light"
     },
     "output_type": "display_data"
    }
   ],
   "source": [
    "plt.scatter(*a.T, c='r', label='First group')\n",
    "plt.scatter(*(b ).T, c='g', label='Second group')\n",
    "plt.scatter(*(c ).T, c='b', label='Third group')\n",
    "plt.scatter(*(d ).T, c='y', label='Fourth group')\n",
    "plt.axis('equal')\n",
    "plt.xlabel('Age')\n",
    "plt.ylabel('Annual Income')\n",
    "plt.legend()\n",
    "plt.show()"
   ]
  },
  {
   "cell_type": "markdown",
   "metadata": {},
   "source": [
    "Age and Spending score"
   ]
  },
  {
   "cell_type": "code",
   "execution_count": 1497,
   "metadata": {
    "scrolled": true
   },
   "outputs": [
    {
     "name": "stdout",
     "output_type": "stream",
     "text": [
      "[[[0.46917293 0.27680312]]\n",
      "\n",
      " [[0.79472527 0.3998446 ]]\n",
      "\n",
      " [[0.41794872 0.76469826]]] 0.00017243955891201276\n"
     ]
    }
   ],
   "source": [
    "AgeScor = np.concatenate([age,score],axis = 1)\n",
    "k = 2\n",
    "eps = 0.001\n",
    "over = 2\n",
    "Rez, Disp_old = kMeans(k,AgeScor,eps)\n",
    "#print(Disp_old)\n",
    "while over > 1.5:\n",
    "    k = k+1\n",
    "    Rez,Disp_new = kMeans(k,AgeScor,eps)\n",
    "    over = Disp_old / Disp_new\n",
    "    Disp_old = Disp_new\n",
    "    #print(over)\n",
    "print(Rez,Disp_new) \n",
    "#print(np.reshape(Rez,(3,2)))"
   ]
  },
  {
   "cell_type": "code",
   "execution_count": 1499,
   "metadata": {},
   "outputs": [
    {
     "name": "stdout",
     "output_type": "stream",
     "text": [
      "1\n",
      "2\n",
      "3\n",
      "4\n",
      "5\n",
      "6\n",
      "7\n",
      "8\n"
     ]
    },
    {
     "data": {
      "text/plain": [
       "<function matplotlib.pyplot.show(*args, **kw)>"
      ]
     },
     "execution_count": 1499,
     "metadata": {},
     "output_type": "execute_result"
    },
    {
     "data": {
      "image/png": "[encoded data removed]",
      "text/plain": [
       "<Figure size 432x288 with 1 Axes>"
      ]
     },
     "metadata": {
      "needs_background": "light"
     },
     "output_type": "display_data"
    }
   ],
   "source": [
    "dis = np.zeros(8)\n",
    "for i in range (1,9):\n",
    "    print(i)\n",
    "    Ux,dis[i-1] = kMeans(i,AgeScor,eps)\n",
    "plt.plot(*np.array([np.arange(1,9),dis]))\n",
    "plt.show"
   ]
  },
  {
   "cell_type": "markdown",
   "metadata": {},
   "source": [
    "Наверное, лучше всего взять k = 3 или 4, давайте возьмем 3"
   ]
  },
  {
   "cell_type": "code",
   "execution_count": 1195,
   "metadata": {},
   "outputs": [],
   "source": [
    "Rez = np.reshape(Rez,(3,2))\n",
    "#print(Rez)\n",
    "a1 = np.zeros((0,2))\n",
    "b1 = np.zeros((0,2))\n",
    "c1 = np.zeros((0,2))\n",
    "for i in range (0,200):\n",
    "    rast1 = (age[i][0] - Rez[0][0])*(age[i][0] - Rez[0][0]) + (score[i][0] - Rez[0][1])*(score[i][0] - Rez[0][1])\n",
    "    rast2 = (age[i][0] - Rez[1][0])*(age[i][0] - Rez[1][0]) + (score[i][0] - Rez[1][1])*(score[i][0] - Rez[1][1])\n",
    "    rast3 = (age[i][0] - Rez[2][0])*(age[i][0] - Rez[2][0]) + (score[i][0] - Rez[2][1])*(score[i][0] - Rez[2][1])\n",
    "    rast = min(rast1,rast2,rast3)\n",
    "    if rast == rast1:\n",
    "        a1 = np.append(a1,np.reshape(AgeScor[i],(1,2)),axis = 0)\n",
    "    elif rast == rast2:\n",
    "        b1 = np.append(b1,np.reshape(AgeScor[i],(1,2)),axis = 0)\n",
    "    else:\n",
    "        c1 = np.append(c1,np.reshape(AgeScor[i],(1,2)),axis = 0)"
   ]
  },
  {
   "cell_type": "code",
   "execution_count": 1196,
   "metadata": {},
   "outputs": [
    {
     "data": {
      "image/png": "[encoded data removed]",
      "text/plain": [
       "<Figure size 432x288 with 1 Axes>"
      ]
     },
     "metadata": {
      "needs_background": "light"
     },
     "output_type": "display_data"
    }
   ],
   "source": [
    "plt.scatter(*a1.T, c='r', label='First group')\n",
    "plt.scatter(*(b1 ).T, c='g', label='Second group')\n",
    "plt.scatter(*(c1 ).T, c='b', label='Third group')\n",
    "plt.axis('equal')\n",
    "plt.xlabel('Age')\n",
    "plt.ylabel('Spending Score')\n",
    "plt.legend()\n",
    "plt.show()"
   ]
  },
  {
   "cell_type": "markdown",
   "metadata": {},
   "source": [
    "Income and score"
   ]
  },
  {
   "cell_type": "code",
   "execution_count": 1521,
   "metadata": {
    "scrolled": false
   },
   "outputs": [
    {
     "name": "stdout",
     "output_type": "stream",
     "text": [
      "[[[0.80591631 0.75703858]]\n",
      "\n",
      " [[0.48207348 0.37835887]]\n",
      "\n",
      " [[0.80165289 0.18779031]]\n",
      "\n",
      " [[0.84282828 0.56145985]]\n",
      "\n",
      " [[0.15740741 0.52524331]]] 0.00012703541429370566\n"
     ]
    }
   ],
   "source": [
    "IncScor = np.concatenate([score,income],axis = 1)\n",
    "k = 2\n",
    "eps = 0.001\n",
    "over = 2\n",
    "Rez, Disp_old = kMeans(k,IncScor,eps)\n",
    "#print(Disp_old)\n",
    "while over > 1.25:\n",
    "    k = k+1\n",
    "    Rez,Disp_new = kMeans(k,IncScor,eps)\n",
    "    over = Disp_old / Disp_new\n",
    "    Disp_old = Disp_new\n",
    "    #print(over)\n",
    "print(Rez,Disp_new) \n",
    "#print(np.reshape(Rez,(3,2)))"
   ]
  },
  {
   "cell_type": "code",
   "execution_count": 1508,
   "metadata": {},
   "outputs": [
    {
     "name": "stdout",
     "output_type": "stream",
     "text": [
      "1\n",
      "2\n",
      "3\n",
      "4\n",
      "5\n",
      "6\n",
      "7\n"
     ]
    },
    {
     "data": {
      "text/plain": [
       "<function matplotlib.pyplot.show(*args, **kw)>"
      ]
     },
     "execution_count": 1508,
     "metadata": {},
     "output_type": "execute_result"
    },
    {
     "data": {
      "image/png": "[encoded data removed]",
      "text/plain": [
       "<Figure size 432x288 with 1 Axes>"
      ]
     },
     "metadata": {
      "needs_background": "light"
     },
     "output_type": "display_data"
    }
   ],
   "source": [
    "dis = np.zeros(7)\n",
    "for i in range (1,8):\n",
    "    print(i)\n",
    "    Ux,dis[i-1] = kMeans(i,IncScor,eps)\n",
    "plt.plot(*np.array([np.arange(1,8),dis]))\n",
    "plt.show"
   ]
  },
  {
   "cell_type": "markdown",
   "metadata": {},
   "source": [
    "Здесь, как видно, лучше всего будет 5"
   ]
  },
  {
   "cell_type": "code",
   "execution_count": 1522,
   "metadata": {},
   "outputs": [],
   "source": [
    "Rez = np.reshape(Rez,(5,2))\n",
    "#print(Rez)\n",
    "a2 = np.zeros((0,2))\n",
    "b2 = np.zeros((0,2))\n",
    "c2 = np.zeros((0,2))\n",
    "d2 = np.zeros((0,2))\n",
    "e2 = np.zeros((0,2))\n",
    "for i in range (0,200):\n",
    "    rast1 = (score[i][0] - Rez[0][0])*(score[i][0] - Rez[0][0]) + (income[i][0] - Rez[0][1])*(income[i][0] - Rez[0][1])\n",
    "    rast2 = (score[i][0] - Rez[1][0])*(score[i][0] - Rez[1][0]) + (income[i][0] - Rez[1][1])*(income[i][0] - Rez[1][1])\n",
    "    rast3 = (score[i][0] - Rez[2][0])*(score[i][0] - Rez[2][0]) + (income[i][0] - Rez[2][1])*(income[i][0] - Rez[2][1])\n",
    "    rast4 = (score[i][0] - Rez[3][0])*(score[i][0] - Rez[3][0]) + (income[i][0] - Rez[3][1])*(income[i][0] - Rez[3][1])\n",
    "    rast5 = (score[i][0] - Rez[4][0])*(score[i][0] - Rez[4][0]) + (income[i][0] - Rez[4][1])*(income[i][0] - Rez[4][1])\n",
    "    rast = min(rast1,rast2,rast3,rast4,rast5)\n",
    "    if rast == rast1:\n",
    "        a2 = np.append(a2,np.reshape(IncScor[i],(1,2)),axis = 0)\n",
    "    elif rast == rast2:\n",
    "        b2 = np.append(b2,np.reshape(IncScor[i],(1,2)),axis = 0)\n",
    "    elif rast == rast3:\n",
    "        c2 = np.append(c2,np.reshape(IncScor[i],(1,2)),axis = 0)\n",
    "    elif rast == rast4:\n",
    "        d2 = np.append(d2,np.reshape(IncScor[i],(1,2)),axis = 0)\n",
    "    else:\n",
    "        e2 = np.append(e2,np.reshape(IncScor[i],(1,2)),axis = 0)"
   ]
  },
  {
   "cell_type": "code",
   "execution_count": 1523,
   "metadata": {
    "scrolled": true
   },
   "outputs": [
    {
     "data": {
      "image/png": "[encoded data removed]",
      "text/plain": [
       "<Figure size 432x288 with 1 Axes>"
      ]
     },
     "metadata": {
      "needs_background": "light"
     },
     "output_type": "display_data"
    }
   ],
   "source": [
    "plt.scatter(*a2.T, c='r', label='First group')\n",
    "plt.scatter(*(b2 ).T, c='g', label='Second group')\n",
    "plt.scatter(*(c2 ).T, c='b', label='Third group')\n",
    "plt.scatter(*(d2 ).T, c='y', label='Fourth group')\n",
    "plt.scatter(*(e2 ).T, c='black', label='Fifth group')\n",
    "plt.axis('equal')\n",
    "plt.xlabel('Spending Score')\n",
    "plt.ylabel('Actual Income')\n",
    "#plt.legend()\n",
    "plt.show()"
   ]
  },
  {
   "cell_type": "code",
   "execution_count": null,
   "metadata": {},
   "outputs": [],
   "source": []
  },
  {
   "cell_type": "code",
   "execution_count": null,
   "metadata": {},
   "outputs": [],
   "source": []
  }
 ],
 "metadata": {
  "kernelspec": {
   "display_name": "Python 3",
   "language": "python",
   "name": "python3"
  },
  "language_info": {
   "codemirror_mode": {
    "name": "ipython",
    "version": 3
   },
   "file_extension": ".py",
   "mimetype": "text/x-python",
   "name": "python",
   "nbconvert_exporter": "python",
   "pygments_lexer": "ipython3",
   "version": "3.8.3"
  }
 },
 "nbformat": 4,
 "nbformat_minor": 4
}
