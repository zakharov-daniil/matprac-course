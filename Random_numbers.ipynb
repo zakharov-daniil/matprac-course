{
 "cells": [
  {
   "cell_type": "markdown",
   "metadata": {
    "id": "0aRCzXYcdiYx"
   },
   "source": [
    "# Случайность в вероятности и на практике\n",
    "\n",
    "О подходах к понятию случайности: \n",
    "\n",
    "Н.К. Верещагин, В.А. Успенский, А. Шень. Колмогоровская сложность и алгоритмическая случайность. \n",
    "https://www.mccme.ru/free-books/shen/kolmbook.pdf\n",
    "\n",
    "А.Н. Ширяев. Случайность в вероятности (доклад на семинаре кафедры теории веротяностей). http://www.mathnet.ru:8080/PresentFiles/21897/bsk_2018_10_17_shiryaev_an_randomness_in_probability_slides.pdf"
   ]
  },
  {
   "cell_type": "markdown",
   "metadata": {
    "id": "gGaMEWqqdiYz"
   },
   "source": [
    "## Генераторы случайных чисел"
   ]
  },
  {
   "cell_type": "markdown",
   "metadata": {
    "id": "KKkc3qORdiY0"
   },
   "source": [
    "Что происходит при вызове, напрмер, ```np.random.rand()```?\n",
    "\n",
    "Как устроен источник случайной последовательности?\n",
    "\n",
    "![img](https://cdn.ablebits.com/_img-blog/random-generator/random-generator.png)"
   ]
  },
  {
   "cell_type": "markdown",
   "metadata": {
    "id": "z9EkarifdiY2"
   },
   "source": [
    "Рассмотрим простой и популрный алгоритм - Linear congruential generator (LCG). При вызове функции ```rand()``` в C/C++ происзодит обращение именно к LCG."
   ]
  },
  {
   "cell_type": "markdown",
   "metadata": {
    "id": "sx9CIKsSdiY2"
   },
   "source": [
    "Linear congruential generator производит последовательность:\n",
    "$$ z_{i+1} = (az_i + c) \\mod m $$\n",
    "\n",
    "Число $z_0$ называется *seed* и обеспечивает воспроизводимость последовательности “случайных” чисел.\n",
    "\n",
    "Напишем функцию, которая реализует LCG:"
   ]
  },
  {
   "cell_type": "code",
   "execution_count": null,
   "metadata": {
    "id": "LqxgMijIdiY3"
   },
   "outputs": [],
   "source": [
    "def rng(m=2**32, a=1103515245, c=12345):\n",
    "    rng.current = (a * rng.current + c) % m\n",
    "    return rng.current / m\n",
    "\n",
    "# setting the seed\n",
    "rng.current = 1"
   ]
  },
  {
   "cell_type": "markdown",
   "metadata": {
    "id": "d0AqPXS7diY5"
   },
   "source": [
    "Выведем несколько первых элементов последовательности:"
   ]
  },
  {
   "cell_type": "code",
   "execution_count": null,
   "metadata": {
    "id": "osNjN2U4diY6",
    "outputId": "13438912-a5a1-4c67-dab6-6247d775602f"
   },
   "outputs": [
    {
     "data": {
      "text/plain": [
       "[0.25693503906950355,\n",
       " 0.5878706516232342,\n",
       " 0.15432575810700655,\n",
       " 0.767266943352297,\n",
       " 0.9738139626570046,\n",
       " 0.5858681506942958,\n",
       " 0.8511155843734741,\n",
       " 0.6132153405342251,\n",
       " 0.7473867232911289,\n",
       " 0.06236015981994569]"
      ]
     },
     "execution_count": 2,
     "metadata": {
      "tags": []
     },
     "output_type": "execute_result"
    }
   ],
   "source": [
    "[rng() for i in range(10)]"
   ]
  },
  {
   "cell_type": "markdown",
   "metadata": {
    "id": "xZXUiK0idiY9"
   },
   "source": [
    "Выбор параметров $m$, $a$ и $c$ существенно влияет на качество последовательности. Если параметры выбрать наобум, это может привести к неожиданным последствиям:"
   ]
  },
  {
   "cell_type": "code",
   "execution_count": null,
   "metadata": {
    "id": "9DWifIyadiY9",
    "outputId": "d08ab4b5-e5ac-45f2-9c26-82a8b4b88c6d"
   },
   "outputs": [
    {
     "name": "stdout",
     "output_type": "stream",
     "text": [
      "This sequence looks as random:\n"
     ]
    },
    {
     "data": {
      "text/plain": [
       "[0.36082474226804123,\n",
       " 0.8041237113402062,\n",
       " 0.020618556701030927,\n",
       " 0.10309278350515463,\n",
       " 0.5154639175257731,\n",
       " 0.5773195876288659,\n",
       " 0.8865979381443299,\n",
       " 0.4329896907216495,\n",
       " 0.16494845360824742,\n",
       " 0.8247422680412371]"
      ]
     },
     "execution_count": 3,
     "metadata": {
      "tags": []
     },
     "output_type": "execute_result"
    }
   ],
   "source": [
    "def rng(m=97, a=5, c=0):\n",
    "    rng.current = (a * rng.current + c) % m\n",
    "    return rng.current / m\n",
    "rng.current = 7\n",
    "\n",
    "random = [rng() for i in range(1000)]\n",
    "print(\"This sequence looks as random:\")\n",
    "random[:10]"
   ]
  },
  {
   "cell_type": "markdown",
   "metadata": {
    "id": "ClnjUt9ddiY_"
   },
   "source": [
    "Гистограмма распределения похожа на равномерное:"
   ]
  },
  {
   "cell_type": "code",
   "execution_count": null,
   "metadata": {
    "id": "wBlZwI6ndiZA",
    "outputId": "c35d5abd-d540-4778-a9e6-169e0439fa1a"
   },
   "outputs": [
    {
     "data": {
      "image/png": "[encoded data removed]",
      "text/plain": [
       "<matplotlib.figure.Figure at 0x4e92828>"
      ]
     },
     "metadata": {
      "tags": []
     },
     "output_type": "display_data"
    }
   ],
   "source": [
    "import matplotlib.pyplot as plt\n",
    "plt.hist(random, normed=True)\n",
    "plt.show()"
   ]
  },
  {
   "cell_type": "markdown",
   "metadata": {
    "id": "jK0-W5ZbdiZC"
   },
   "source": [
    "Однако, спектральный тест показывает, что точки располагаются на гиперплоскостях, что плохо согласуется с предствалением о случайности:"
   ]
  },
  {
   "cell_type": "code",
   "execution_count": null,
   "metadata": {
    "id": "id0Wt3W1diZC",
    "outputId": "1df26491-1137-473f-d2e3-955220b4ed07"
   },
   "outputs": [
    {
     "data": {
      "image/png": "[encoded data removed]",
      "text/plain": [
       "<matplotlib.figure.Figure at 0x8044b70>"
      ]
     },
     "metadata": {
      "tags": []
     },
     "output_type": "display_data"
    }
   ],
   "source": [
    "plt.scatter(random[1:], random[:-1])\n",
    "plt.show()"
   ]
  },
  {
   "cell_type": "markdown",
   "metadata": {
    "id": "acoBBpJ3diZE"
   },
   "source": [
    "Более аккуратный выбор параметров приводит с более \"случайному\" распределению:"
   ]
  },
  {
   "cell_type": "code",
   "execution_count": null,
   "metadata": {
    "id": "bFEQUw_DdiZE",
    "outputId": "85118f78-27a9-4594-f404-23e790cbad11"
   },
   "outputs": [
    {
     "data": {
      "image/png": "[encoded data removed]",
      "text/plain": [
       "<matplotlib.figure.Figure at 0x4e92438>"
      ]
     },
     "metadata": {
      "tags": []
     },
     "output_type": "display_data"
    }
   ],
   "source": [
    "def rng(m=2**32, a=1103515245, c=12345):\n",
    "    rng.current = (a * rng.current + c) % m\n",
    "    return rng.current / m\n",
    "rng.current = 1\n",
    "\n",
    "random = [rng() for i in range(1000)]\n",
    "plt.scatter(random[1:], random[:-1])\n",
    "plt.show()"
   ]
  },
  {
   "cell_type": "markdown",
   "metadata": {
    "id": "vH11PZr2diZG"
   },
   "source": [
    "Существует набор тестов для проверки \"случайности\". Например, тесты [Diehard tests](https://en.wikipedia.org/wiki/Diehard_tests)."
   ]
  },
  {
   "cell_type": "markdown",
   "metadata": {
    "id": "E-_a6vHFhzGq"
   },
   "source": [
    "Больше методов генерации собрано [здесь](https://en.wikipedia.org/wiki/List_of_random_number_generators)."
   ]
  },
  {
   "cell_type": "markdown",
   "metadata": {
    "id": "FfK7kS345riV"
   },
   "source": [
    "Сюжет про динамические системы и переход к хаосу https://www.youtube.com/watch?v=ovJcsL7vyrk&feature=youtu.be"
   ]
  },
  {
   "cell_type": "markdown",
   "metadata": {
    "id": "cuGe1hKIdiZH"
   },
   "source": [
    "## Генерация выборки из заданного распределения"
   ]
  },
  {
   "cell_type": "markdown",
   "metadata": {
    "id": "P_aljqUUdiZH"
   },
   "source": [
    "Допустим, у нас есть генератор случайных числе из отрезка [0, 1]. Как получить выборку из нового распределения $F$?\n",
    "\n"
   ]
  },
  {
   "cell_type": "markdown",
   "metadata": {
    "id": "nicNq6-yrD7P"
   },
   "source": [
    "### Задача\n",
    "Смоделировать выборку объема 1000 из дискретного распределения на множестве цифр 0, 1, 2, ..., 9 с весами 0.12, 0.3, 0.167, 0.24, 0.31, 0.54, 0.111, 0.02, 0.001, 0.2. По выборке построить гистограмму. Оптимизируйте алгоритм, упорядочив веса. Сравните время генерации выборки с неупорядоченными и упорядоченными весами.\n"
   ]
  },
  {
   "cell_type": "code",
   "execution_count": 7,
   "metadata": {
    "id": "2djF1xMoq_1f"
   },
   "outputs": [
    {
     "name": "stdout",
     "output_type": "stream",
     "text": [
      "0:00:00.031222\n"
     ]
    },
    {
     "data": {
      "image/png": "[encoded data removed]",
      "text/plain": [
       "<Figure size 432x288 with 1 Axes>"
      ]
     },
     "metadata": {
      "needs_background": "light"
     },
     "output_type": "display_data"
    }
   ],
   "source": [
    "# Solution here\n",
    "import numpy as np \n",
    "import matplotlib.pyplot as plt \n",
    "from datetime import datetime\n",
    "import random \n",
    "start=datetime.now()\n",
    "\n",
    "di=np.zeros(10) \n",
    "weight=np.arange(10) \n",
    "weight=np.array([0.12, 0.3, 0.167, 0.24, 0.31, 0.54, 0.111, 0.02, 0.001, 0.2]) \n",
    "weight=weight/2.009 \n",
    "G=np.zeros(10) \n",
    "G[0]=weight[0] \n",
    "for i in range(9): \n",
    "    G[i+1]=G[i]+weight[i+1] \n",
    "weight=G \n",
    "#print(G) \n",
    "\n",
    "for i in range (1000): \n",
    "    d=random.random() \n",
    "    j=np.where(weight-d>=0) \n",
    "    q=np.array(j).min() \n",
    "    di[q]=di[q]+1 \n",
    "    \n",
    "\n",
    "print (datetime.now()-start)\n",
    "\n",
    "plt.bar(np.arange(10),di)\n",
    "plt.xticks(np.arange(10))\n",
    "plt.show()"
   ]
  },
  {
   "cell_type": "code",
   "execution_count": 11,
   "metadata": {},
   "outputs": [
    {
     "name": "stdout",
     "output_type": "stream",
     "text": [
      "0:00:00.027431\n"
     ]
    },
    {
     "data": {
      "image/png": "[encoded data removed]",
      "text/plain": [
       "<Figure size 432x288 with 1 Axes>"
      ]
     },
     "metadata": {
      "needs_background": "light"
     },
     "output_type": "display_data"
    }
   ],
   "source": [
    "start=datetime.now()\n",
    "di=np.zeros(10) \n",
    "weight=np.arange(10) \n",
    "weight=np.array([0.54, 0.31, 0.3, 0.24, 0.2, 0.167, 0.12, 0.111, 0.02, 0.001]) \n",
    "weight=weight/2.009 \n",
    "G=np.zeros(10) \n",
    "G[0]=weight[0] \n",
    "for i in range(9): \n",
    "    G[i+1]=G[i]+weight[i+1] \n",
    "weight=G \n",
    "#print(G) \n",
    "\n",
    "for i in range (1000): \n",
    "    d=random.random() \n",
    "    j=np.where(weight-d>=0) \n",
    "    q=np.array(j).min() \n",
    "    di[q]=di[q]+1 \n",
    "    \n",
    "\n",
    "print (datetime.now()-start)\n",
    "plt.bar(np.arange(10),di)\n",
    "plt.xticks(np.arange(10))\n",
    "plt.show()"
   ]
  },
  {
   "cell_type": "markdown",
   "metadata": {
    "id": "F-VMprlQdiZJ"
   },
   "source": [
    "### Inverse transform method"
   ]
  },
  {
   "cell_type": "markdown",
   "metadata": {
    "id": "DXgRVEkidiZJ"
   },
   "source": [
    "В следующем предложении заключается идея метода *inverse transform*:\n",
    "\n",
    "Если $\\xi$ имеет равномерное распределение в $[0,1]$, тогда $F^{-1}(\\xi)$ распределена по закону $F$. (Для каких $F$ это верно?)"
   ]
  },
  {
   "cell_type": "markdown",
   "metadata": {
    "id": "LlRNa517diZK"
   },
   "source": [
    "### Задача\n",
    "Смоделируйте выборку размера 1000 из распределения $Exp(\\lambda)$. Постройте выборочную гистограмму и точный график плотности распределения."
   ]
  },
  {
   "cell_type": "code",
   "execution_count": 24,
   "metadata": {
    "id": "vD1_buYgdiZK"
   },
   "outputs": [
    {
     "data": {
      "image/png": "[encoded data removed]",
      "text/plain": [
       "<Figure size 432x288 with 1 Axes>"
      ]
     },
     "metadata": {
      "needs_background": "light"
     },
     "output_type": "display_data"
    }
   ],
   "source": [
    "# Solution here\n",
    "import math\n",
    "\n",
    "def f (x,s): \n",
    "    return - (math.log(1-x))/s\n",
    "\n",
    "Sample=np.zeros(1000) \n",
    "l=1 \n",
    "X=np.linspace(0, 7, 256) \n",
    "for i in range (1000): \n",
    "    d=random.random() \n",
    "    Sample[i]=f(d,l) \n",
    " \n",
    "T=1000*np.exp(-X) \n",
    "plt.hist(Sample) \n",
    "plt.plot(X,T, label='density') \n",
    "plt.legend() \n",
    "plt.show()"
   ]
  },
  {
   "cell_type": "markdown",
   "metadata": {
    "id": "UEtDHxDUdiZM"
   },
   "source": [
    "### Rejection sampling (Accept-reject method)\n",
    "\n",
    "Идея метода: сэмплить из распределения, из которого умеем, а затем отбирать точки, которые следуют нужному распределению. Картинка иллюстрирует идею метода:\n",
    "<img src=https://colcarroll.github.io/hamiltonian_monte_carlo_talk/images/bayes_talk.015.png style=\"width: 50%;\"/>\n",
    " "
   ]
  },
  {
   "cell_type": "markdown",
   "metadata": {
    "id": "Tgzc6QjxdiZN"
   },
   "source": [
    "### Задача\n",
    "Обоснуйте, что метод accept-reject действительно производит выборку из нужного распределения. Смоделируйте 1000 точек из усеченного распределения Коши, приведенного ниже, используя генератор равномерного распределения. Нарисуйте график полученной выборочной гистограммы и сравните его с графиком точной функции плотности."
   ]
  },
  {
   "cell_type": "code",
   "execution_count": null,
   "metadata": {
    "id": "06HcUVFBdiZN",
    "outputId": "05beb147-ff36-4ab9-f4ac-ea6686cb7cb1"
   },
   "outputs": [
    {
     "data": {
      "image/png": "[encoded data removed]",
      "text/plain": [
       "<matplotlib.figure.Figure at 0x838e390>"
      ]
     },
     "metadata": {
      "tags": []
     },
     "output_type": "display_data"
    }
   ],
   "source": [
    "from scipy import stats\n",
    "import numpy as np\n",
    "dist = stats.cauchy()\n",
    "x = np.linspace(-4, 4, 100)\n",
    "plt.fill_between(x, 0, dist.pdf(x)) #needs to be normalized!\n",
    "plt.show()"
   ]
  },
  {
   "cell_type": "markdown",
   "metadata": {},
   "source": [
    "Выборка нужная просто потому что выбираются ровно те значения, которые под него подходят "
   ]
  },
  {
   "cell_type": "code",
   "execution_count": 47,
   "metadata": {
    "id": "O6uRvW8pdiZP"
   },
   "outputs": [
    {
     "data": {
      "image/png": "[encoded data removed]",
      "text/plain": [
       "<Figure size 432x288 with 1 Axes>"
      ]
     },
     "metadata": {
      "needs_background": "light"
     },
     "output_type": "display_data"
    }
   ],
   "source": [
    "# Solution here\n",
    "import math\n",
    "\n",
    "def f1 (x):\n",
    "    return (1/(math.pi*(1 + x*x)))\n",
    "\n",
    "x = np.zeros(1000)\n",
    "i = 0\n",
    "while i<1000: \n",
    "    d=random.uniform(-4,4) \n",
    "    y=random.random() \n",
    "    if(y < f1(d)): \n",
    "        x[i]=d\n",
    "        i=i+1\n",
    "plt.hist(x,30)\n",
    "plt.show()"
   ]
  },
  {
   "cell_type": "markdown",
   "metadata": {
    "id": "kq8tMmPYdiZS"
   },
   "source": [
    "##  Coordinate transformation method\n",
    "\n",
    "Метод аccept-reject в ряде случаев может оказываться неэффективным и требовать слишком много пробных точек. Альтернатива -  попробовать найти преобразование координат, которое переводит простую область (из которой легко сэмплить, например, едининчный квадрат) в требуемую, но при этом сохраняет соотношение площадей."
   ]
  },
  {
   "cell_type": "markdown",
   "metadata": {
    "id": "xGIRsM7KdiZS"
   },
   "source": [
    "### Задача\n",
    "Смоделировать выборку из 500 точек равномерно распределенных внутри данного треугольника без использования метода отбора. "
   ]
  },
  {
   "cell_type": "code",
   "execution_count": null,
   "metadata": {
    "id": "V-aQwOVvdiZT",
    "outputId": "d6e9958f-57ab-4224-9974-13bc6b7bc351"
   },
   "outputs": [
    {
     "data": {
      "image/png": "[encoded data removed]",
      "text/plain": [
       "<matplotlib.figure.Figure at 0x91140b8>"
      ]
     },
     "metadata": {
      "tags": []
     },
     "output_type": "display_data"
    }
   ],
   "source": [
    "import matplotlib\n",
    "from matplotlib.patches import Polygon\n",
    "from matplotlib.collections import PatchCollection\n",
    "\n",
    "polygon = Polygon(0.1 * np.array([[1, 2], [2, 9], [8, 1]]), True)\n",
    "plt.gca().add_collection(PatchCollection([polygon]))\n",
    "plt.show()"
   ]
  },
  {
   "cell_type": "code",
   "execution_count": 89,
   "metadata": {
    "id": "_x5KNetcdiZU"
   },
   "outputs": [
    {
     "name": "stdout",
     "output_type": "stream",
     "text": [
      "0.7071067811865476 0.7071067811865476\n"
     ]
    },
    {
     "data": {
      "image/png": "[encoded data removed]",
      "text/plain": [
       "<Figure size 432x288 with 1 Axes>"
      ]
     },
     "metadata": {
      "needs_background": "light"
     },
     "output_type": "display_data"
    }
   ],
   "source": [
    "# Solution here\n",
    "import math\n",
    "a = 0.1*math.sqrt((1-2)*(1-2)+(2-9)*(2-9))\n",
    "b = 0.1*math.sqrt((8-1)*(8-1) + (1-2)*(1-2))\n",
    "#b = 0.1*math.sqrt((1-8)^2 + (2-1)^2)\n",
    "print(a,b)\n",
    "x = np.zeros(1000).reshape(500,2)\n",
    "#print(x)\n",
    "for i in range (500):\n",
    "    d = random.random()\n",
    "    v = random.random()\n",
    "    if ((v + d) >= 1):\n",
    "        x[i,0] = (1-d)*a\n",
    "        x[i,1] = (1-v)*b\n",
    "    else:\n",
    "        x[i,0] = d*a\n",
    "        x[i,1] = v*a\n",
    "A = np.array([[1/math.sqrt(50),7/math.sqrt(50)],[7/math.sqrt(50),-1/math.sqrt(50)]])\n",
    "for i in range (500):\n",
    "    x[i] = np.dot(A,x[i])\n",
    "plt.scatter(x[:,0]+0.1,x[:,1]+0.2)\n",
    "plt.gca().set(xlim=(0.0,1.0),ylim=(0.0,1.0))\n",
    "plt.show()"
   ]
  },
  {
   "cell_type": "markdown",
   "metadata": {
    "id": "p69CWYlBdiZW"
   },
   "source": [
    "### Задача\n",
    "Смоделировать выборку из 500 точек внутри данного круга без использования метода отбора."
   ]
  },
  {
   "cell_type": "code",
   "execution_count": null,
   "metadata": {
    "id": "trOeYSO9diZW",
    "outputId": "aaa9d07a-96da-4f86-cd68-06c5a5da7c2d"
   },
   "outputs": [
    {
     "data": {
      "image/png": "[encoded data removed]",
      "text/plain": [
       "<matplotlib.figure.Figure at 0x9176748>"
      ]
     },
     "metadata": {
      "tags": []
     },
     "output_type": "display_data"
    }
   ],
   "source": [
    "from matplotlib.patches import Circle\n",
    "t = np.linspace(0, 2 * np.pi, 100)\n",
    "plt.plot(np.sin(t), np.cos(t))\n",
    "plt.axis('equal')\n",
    "plt.show()"
   ]
  },
  {
   "cell_type": "code",
   "execution_count": 387,
   "metadata": {
    "id": "D9qZcU9OdiZY"
   },
   "outputs": [
    {
     "data": {
      "image/png": "[encoded data removed]",
      "text/plain": [
       "<Figure size 432x288 with 1 Axes>"
      ]
     },
     "metadata": {
      "needs_background": "light"
     },
     "output_type": "display_data"
    }
   ],
   "source": [
    "# Solution here\n",
    "x = np.zeros(1000).reshape(500,2)\n",
    "#print(x)\n",
    "for i in range (500):\n",
    "    r = math.sqrt(random.uniform(0,1))\n",
    "    phi = random.uniform(0,2*np.pi)\n",
    "    x[i,0] = r * np.cos(phi)\n",
    "    x[i,1] = r * np.sin(phi)\n",
    "plt.scatter(x[:,0],x[:,1])\n",
    "plt.gca().set(xlim=(-1.5,1.5),ylim=(-1.0,1.0))\n",
    "plt.show()"
   ]
  },
  {
   "cell_type": "markdown",
   "metadata": {
    "id": "EyDObV-ty70e"
   },
   "source": [
    "### Задача\n",
    "Напишите функцию, которая моделирует случайное симметричное блуждание на двумерной решетке длины n c началом и концом в точке (0, 0). Приведите графики выборочных траекторий для n=100."
   ]
  },
  {
   "cell_type": "code",
   "execution_count": 376,
   "metadata": {
    "id": "iaSUB9Ocy8hU"
   },
   "outputs": [],
   "source": [
    "# Solution here\n",
    "def rw(n): \n",
    "    x0=0 \n",
    "    x1=0 \n",
    "    sx=np.zeros(100) \n",
    "    sy=np.zeros(100) \n",
    "    while x0<n/2 and x1<n/2: \n",
    "        x=random.randint(0,1) \n",
    "        if(x==0): \n",
    "            sx[x1+x0]=0 \n",
    "            x0=x0+1 \n",
    "        else: \n",
    "            sx[x1+x0]=1 \n",
    "            x1=x1+1 \n",
    "    if(x0==n/2): \n",
    "         while x1<n/2: \n",
    "                sx[x1+x0]=1 \n",
    "                x1=x1+1 \n",
    "    else: \n",
    "        sx[x1+x0]=0 \n",
    "        x0=x0+1\n",
    "    x0=0 \n",
    "    x1=0 \n",
    "    while x0<n/2 and x1<n/2: \n",
    "        x=random.randint(0,1) \n",
    "        if(x==0): \n",
    "            sy[x1+x0]=0 \n",
    "            x0=x0+1 \n",
    "        else: \n",
    "            sy[x1+x0]=1 \n",
    "            x1=x1+1 \n",
    "    if(x0==n/2): \n",
    "        while x1<n/2: \n",
    "            sy[x1+x0]=1 \n",
    "            x1=x1+1 \n",
    "    else: \n",
    "        sy[x1+x0]=0 \n",
    "        x0=x0+1 \n",
    "    w=np.zeros((2,100)) \n",
    "    for i in range (100): \n",
    "        if sx[i]==1: \n",
    "            if sy[i]==1: \n",
    "                w[0][i]=1 \n",
    "                w[1][i]=0 \n",
    "            else: \n",
    "                w[0][i]=0 \n",
    "                w[1][i]=1 \n",
    "        else: \n",
    "            if sy[i]==1: \n",
    "                w[0][i]=0 \n",
    "                w[1][i]=-1 \n",
    "            else: \n",
    "                w[0][i]=-1 \n",
    "                w[1][i]=0 \n",
    "    return w"
   ]
  },
  {
   "cell_type": "code",
   "execution_count": 380,
   "metadata": {},
   "outputs": [
    {
     "data": {
      "image/png": "[encoded data removed]",
      "text/plain": [
       "<Figure size 432x288 with 1 Axes>"
      ]
     },
     "metadata": {
      "needs_background": "light"
     },
     "output_type": "display_data"
    }
   ],
   "source": [
    "w =rw (100) \n",
    "r=np.zeros((2,101)) \n",
    "fig, ax=plt.subplots() \n",
    "for i in range (100): \n",
    "    r[0][i+1]=r[0][i]+w[0][i] \n",
    "    r[1][i+1]=r[1][i]+w[1][i] \n",
    "    ax.arrow(r[0][i], r[1][i],w[0][i] ,w[1][i] , width=0.05, head_width=0.2)  \n",
    "plt.plot(r[0,:],r[1,:]) \n",
    "plt.xticks(np.arange(-7,7,1)) \n",
    "plt.yticks(np.arange(-7,7,1)) \n",
    "plt.show()"
   ]
  },
  {
   "cell_type": "markdown",
   "metadata": {
    "id": "FV7suL2pdiZa"
   },
   "source": [
    "## Random normal generator"
   ]
  },
  {
   "cell_type": "markdown",
   "metadata": {
    "id": "YalKYO-bdiZb"
   },
   "source": [
    "### Задача\n",
    "Докажите, что приведенный ниже алгоритм (Box-Muller algorithm) формирует выборку из независимых N(0,1) случаных величин. Модифицируйте метод, чтобы исключить вызовы тригонометрических функций ```np.sin``` и ```np.cos```. С помощью модифицированного метода смоделируйте выборку объема 1000 из двумерного гауссовского распределения со средним (3, 6) и ковариационной матрицей ((2, 1), (1, 4)). Постройте 2D гистограмму полученного распределения."
   ]
  },
  {
   "cell_type": "code",
   "execution_count": null,
   "metadata": {
    "id": "L2ZJeRoJdiZc",
    "outputId": "5d57c746-0ffd-48d1-de6e-c4276349b305"
   },
   "outputs": [
    {
     "data": {
      "image/png": "[encoded data removed]",
      "text/plain": [
       "<matplotlib.figure.Figure at 0x1970da90>"
      ]
     },
     "metadata": {
      "tags": []
     },
     "output_type": "display_data"
    }
   ],
   "source": [
    "n = 1000\n",
    "u1, u2 = np.random.rand(2, n)\n",
    "r = np.sqrt(-2 * np.log(u1))\n",
    "theta = 2 * np.pi * u2\n",
    "x = r * np.cos(theta)\n",
    "y = r * np.sin(theta)\n",
    "fig, ax = plt.subplots(1, 3, figsize=(15, 5))\n",
    "ax[0].hist2d(x, y, bins=30)\n",
    "ax[0].axis('equal')\n",
    "ax[1].hist(x, bins=30)\n",
    "ax[2].hist(y, bins=30)\n",
    "ax[0].set_title(\"2d histogram\")\n",
    "ax[1].set_title(\"Histogram of x\")\n",
    "ax[2].set_title(\"Histogram of y\")\n",
    "plt.show()"
   ]
  },
  {
   "cell_type": "code",
   "execution_count": 112,
   "metadata": {
    "id": "DpYdmOuWdiZf",
    "scrolled": true
   },
   "outputs": [
    {
     "data": {
      "image/png": "[encoded data removed]",
      "text/plain": [
       "<Figure size 1080x360 with 3 Axes>"
      ]
     },
     "metadata": {
      "needs_background": "light"
     },
     "output_type": "display_data"
    }
   ],
   "source": [
    "# Solution here\n",
    "n = 1000\n",
    "x = np.zeros(1000)\n",
    "y = np.zeros(1000)\n",
    "k=0\n",
    "while k<1000:\n",
    "    d = random.uniform(-1,1)\n",
    "    v = random.uniform(-1,1)\n",
    "    s = d*d+v*v\n",
    "    if s<=1 and s>0:\n",
    "        x[k] = d * math.sqrt((-2)*np.log(s)/s)\n",
    "        y[k] = v * math.sqrt((-2)*np.log(s)/s)\n",
    "        k = k+1\n",
    "fig, ax = plt.subplots(1, 3, figsize=(15, 5))\n",
    "ax[0].hist2d(x, y, bins=30)\n",
    "ax[0].axis('equal')\n",
    "ax[1].hist(x, bins=30)\n",
    "ax[2].hist(y, bins=30)\n",
    "ax[0].set_title(\"2d histogram\")\n",
    "ax[1].set_title(\"Histogram of x\")\n",
    "ax[2].set_title(\"Histogram of y\")\n",
    "plt.show()"
   ]
  },
  {
   "cell_type": "code",
   "execution_count": 113,
   "metadata": {},
   "outputs": [
    {
     "data": {
      "image/png": "[encoded data removed]",
      "text/plain": [
       "<Figure size 1080x360 with 3 Axes>"
      ]
     },
     "metadata": {
      "needs_background": "light"
     },
     "output_type": "display_data"
    }
   ],
   "source": [
    "x1=x+y+3 \n",
    "y1=(1-math.sqrt(7))/2*x+(1+math.sqrt(7))/2*y +6 \n",
    "fig, ax = plt.subplots(1, 3, figsize=(15, 5)) \n",
    "ax[0].hist2d(x1, y1, bins=30) \n",
    "ax[0].axis('equal') \n",
    "ax[1].hist(x1, bins=30) \n",
    "ax[2].hist(y1, bins=30) \n",
    "ax[0].set_title(\"2d histogram\") \n",
    "ax[1].set_title(\"Histogram of x1\") \n",
    "ax[2].set_title(\"Histogram of y1\") \n",
    "plt.show()"
   ]
  },
  {
   "cell_type": "markdown",
   "metadata": {
    "id": "nhW6gKupg6PV"
   },
   "source": [
    "### Задача\n",
    "Перейдите от вектора из независимых стандартных нормальных величин к гауссовскому вектору с нулевым средним и заданной ниже ковариационно матрицей. Обоснуйте теоретически и численно, что полученный вектор обладает требуемой ковариационной матрицей.\n"
   ]
  },
  {
   "cell_type": "code",
   "execution_count": 284,
   "metadata": {
    "id": "amdo0HMEgkrt"
   },
   "outputs": [],
   "source": [
    "B = np.array([[ 2.,  0.,  0.,  0., -1.,  0.,  0.,  0., -1.],\n",
    "              [ 0.,  4.,  0., -1.,  0.,  0.,  0.,  0.,  0.],\n",
    "              [ 0.,  0.,  4.,  0.,  0.,  0., -1.,  0.,  0.],\n",
    "              [ 0., -1.,  0.,  4.,  0.,  0.,  0.,  0.,  0.],\n",
    "              [-1.,  0.,  0.,  0.,  2.,  0.,  0.,  0., -1.],\n",
    "              [ 0.,  0.,  0.,  0.,  0.,  4.,  0., -1.,  0.],\n",
    "              [ 0.,  0., -1.,  0.,  0.,  0.,  4.,  0.,  0.],\n",
    "              [ 0.,  0.,  0.,  0.,  0., -1.,  0.,  4.,  0.],\n",
    "              [-1.,  0.,  0.,  0., -1.,  0.,  0.,  0.,  2.]])"
   ]
  },
  {
   "cell_type": "markdown",
   "metadata": {},
   "source": [
    "Переход производится с помощью разложения Холецкого (https://ru.wikipedia.org/wiki/Разложение_Холецкого). Если найти матрицу L, тч L * L^T = B, то матрица L даст преобразование исходных восьми величин (для всех 9 сразу нельзя, так как 9я строка выражается как минус сумма первой и пятой). Затем получим преобразование первых 8ми величин, умножив L на вектор из 8 гауссовских величин. После этого, получим 9ю как - сумму первой и пятой (тк соотв. 9я строка в матрице В есть минус сумма первой и пятой). Таким образом будет получен искомый вектор случайных величин, имеющих ковариационную матрицу В"
   ]
  },
  {
   "cell_type": "code",
   "execution_count": 355,
   "metadata": {},
   "outputs": [],
   "source": [
    "def multinorm(n):\n",
    "    a = np.zeros(8*n).reshape(8,n)\n",
    "    for i in range (8):\n",
    "        a[i] = np.random.normal(0,1,n)\n",
    "    return a"
   ]
  },
  {
   "cell_type": "code",
   "execution_count": 368,
   "metadata": {},
   "outputs": [
    {
     "name": "stdout",
     "output_type": "stream",
     "text": [
      "[ 0.39560376  1.94703125  2.70193477 -1.09124182 -2.31055825  1.4361925\n",
      " -0.85049276  0.01059199  1.91495449]\n"
     ]
    }
   ],
   "source": [
    "N = multinorm(1)\n",
    "C = np.linalg.cholesky(B[np.arange(8)][:,np.arange(8)])\n",
    "a = np.zeros(8)+1\n",
    "a = C.dot(N)\n",
    "b = np.zeros(9)\n",
    "for i in range (8):\n",
    "    b[i] = a[i]\n",
    "b[8] = -(a[0]+a[4])\n",
    "print(b)\n",
    "#print(C.dot(np.transpose(C)))"
   ]
  },
  {
   "cell_type": "markdown",
   "metadata": {
    "id": "Pna9OteejabS"
   },
   "source": [
    "### Задача\n",
    "С помощью метода Монте-Карло (бросанием случайной точки в квадрат) оцените число $\\pi$. Теоретически обоснуйте необходимое число бросаний, чтобы оценить число $\\pi$ с точностью 3 знака после запятой и достоверностью 99%. С помощью метода Монте-Карло оцените, сколько на практике требуется бросаний, чтобы достичь с требуемой достоверностью нужной точности.\n"
   ]
  },
  {
   "cell_type": "markdown",
   "metadata": {},
   "source": [
    "Если выписать асимптотический доверительный интервал, оценивая матожидание индикатора того что одна точка попала в круг, то при вероятности 0.99 получим что теоретически нужно n > (1000 * pi/2 * (1-pi/4) * 2.576)^2 = 754 046\n",
    "Но понятно что практически такое число не подойдет, поскольку ранддомайзер не так и случаен. \n",
    "Возьмём 70000000 для практической оценки"
   ]
  },
  {
   "cell_type": "code",
   "execution_count": 384,
   "metadata": {
    "id": "DKsFm6lulE5J"
   },
   "outputs": [
    {
     "name": "stdout",
     "output_type": "stream",
     "text": [
      "3.1413042285714288\n"
     ]
    }
   ],
   "source": [
    "# Solution here\n",
    "n = 70000000\n",
    "count = 0\n",
    "for i in range (n):\n",
    "    d = random.uniform(-1,1)\n",
    "    v = random.uniform(-1,1)\n",
    "    r = d*d + v*v\n",
    "    if r <= 1:\n",
    "        count = count +1\n",
    "print(4*count/n)"
   ]
  },
  {
   "cell_type": "markdown",
   "metadata": {
    "id": "14IvUqPM35xs"
   },
   "source": [
    "### Задача\n",
    "\n",
    "Реализовать метод генерации случайного разбиения n-элементного множества на подмножества. С его помощью оценить ожидаемое число подмножеств в случайном разбиении множества из 100 элементов. \n",
    "\n",
    "Подсказка 1: Ширяев, Вероятность, т1, задача 2 к параграфу 1.\n",
    "\n",
    "Подсказка 2: http://djalil.chafai.net/blog/2012/05/03/generating-uniform-random-partitions/"
   ]
  },
  {
   "cell_type": "code",
   "execution_count": 226,
   "metadata": {},
   "outputs": [],
   "source": [
    "def Cnk (n,k):\n",
    "    if k == 0:\n",
    "        return 1\n",
    "    else:\n",
    "        return (math.factorial(n)/(math.factorial(k)*math.factorial(n-k)))"
   ]
  },
  {
   "cell_type": "code",
   "execution_count": 235,
   "metadata": {},
   "outputs": [
    {
     "name": "stdout",
     "output_type": "stream",
     "text": [
      "65.0\n"
     ]
    }
   ],
   "source": [
    "def stirl(m,n):\n",
    "    a = 0.0\n",
    "    if m == 0 and n == 0:\n",
    "        return 1\n",
    "    if m == 0:\n",
    "        return 0\n",
    "    if n == 1:\n",
    "        return 1\n",
    "    for k in range (n):\n",
    "        a += pow((-1),k) * Cnk(n,k) * pow(n-k,m)\n",
    "    a = a / math.factorial(n)\n",
    "    return a\n",
    "print(stirl(6,4))"
   ]
  },
  {
   "cell_type": "code",
   "execution_count": 286,
   "metadata": {},
   "outputs": [
    {
     "name": "stdout",
     "output_type": "stream",
     "text": [
      "877.0\n"
     ]
    }
   ],
   "source": [
    "def Bell(n):\n",
    "    a = 0\n",
    "    if n == 1:\n",
    "        return 1\n",
    "    for i in range (n):\n",
    "        a = a+ stirl(n,i)\n",
    "    return a+1\n",
    "print(Bell(7))"
   ]
  },
  {
   "cell_type": "code",
   "execution_count": 287,
   "metadata": {},
   "outputs": [],
   "source": [
    "def func (n):\n",
    "    A = np.zeros(n+1)\n",
    "    for i in range (n):\n",
    "        A[i] = pow(i,n)/(Bell(n)*math.factorial(i)*math.e)\n",
    "    s=np.sum(A)\n",
    "    A[n] = 1 - s\n",
    "    K = np.random.choice(n+1,p = A)\n",
    "#K = np.sum(A)\n",
    "    return K"
   ]
  },
  {
   "cell_type": "code",
   "execution_count": 283,
   "metadata": {},
   "outputs": [
    {
     "name": "stdout",
     "output_type": "stream",
     "text": [
      "29.2\n"
     ]
    }
   ],
   "source": [
    "a = 0\n",
    "k = 10\n",
    "for i in range (k):\n",
    "    a +=func(100)\n",
    "a = a /k\n",
    "print(a)"
   ]
  },
  {
   "cell_type": "markdown",
   "metadata": {},
   "source": [
    "Получается примерно 29, так что примерно столько и будет подмножеств в случайном разбиении при n=100"
   ]
  },
  {
   "cell_type": "code",
   "execution_count": null,
   "metadata": {},
   "outputs": [],
   "source": []
  }
 ],
 "metadata": {
  "colab": {
   "collapsed_sections": [],
   "name": "Random_numbers.ipynb",
   "provenance": []
  },
  "kernelspec": {
   "display_name": "Python 3",
   "language": "python",
   "name": "python3"
  },
  "language_info": {
   "codemirror_mode": {
    "name": "ipython",
    "version": 3
   },
   "file_extension": ".py",
   "mimetype": "text/x-python",
   "name": "python",
   "nbconvert_exporter": "python",
   "pygments_lexer": "ipython3",
   "version": "3.8.3"
  }
 },
 "nbformat": 4,
 "nbformat_minor": 1
}
