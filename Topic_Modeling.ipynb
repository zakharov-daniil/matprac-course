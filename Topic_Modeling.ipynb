{
 "cells": [
  {
   "cell_type": "markdown",
   "metadata": {
    "id": "elmONJBjB1wZ"
   },
   "source": [
    "# Topic Modeling and Gibbs Sampling"
   ]
  },
  {
   "cell_type": "markdown",
   "metadata": {
    "id": "ke8yIh3yC-yw"
   },
   "source": [
    "Задача: описать текст через распределение весов по некоторому фиксированному набору топиков (тегов). Например, для набора тегов Политика, Военные сражения, Спорт, Интернет, Драма представить роман \"Война и мир\" как вектор (0.3, 0.2, 0, 0, 0.5), а статью в газете про допинг в велоспорте как вектор (0.1, 0, 0.7, 0, 0.2).\n",
    "\n",
    "Для чего, например, это нужно: имея векторное представление для текстов, тексты можно сравнивать, рекомендовать похожие.\n",
    "\n",
    "Условие: даны только набор текстов и количество тем."
   ]
  },
  {
   "cell_type": "markdown",
   "metadata": {
    "id": "XJdIgvb5B1wd"
   },
   "source": [
    "## Немного теории"
   ]
  },
  {
   "cell_type": "markdown",
   "metadata": {
    "id": "mipLvBaZB1we"
   },
   "source": [
    "Будем представлять текст как неупорядоченный набор слов (Bag-of-words model). Предположим, что имеется K тегов и для каждого тега выбрано распределение $\\phi_k$ над списком всевозможных слов (словарем из N слов). По сути, каждое $\\phi_k$ - это вектор длины N из неотрицательных величин, в сумме дающих 1. Вектора $\\phi_k$ независимы и моделируются распредеделением Дирихле $Dir(\\beta)$. Теперь, чтобы собрать текст d из $n$ слов, будем действовать по следующей схеме:\n",
    "\n",
    "\n",
    "* выберем распредление для тегов $\\theta_d$. Вновь, $\\theta_d$ - это вектор длины K из неотрицательных величин, в сумме дающих 1. Поэтому естественно брать $\\theta_d \\sim Dir(\\theta | \\alpha)$\n",
    "\n",
    "* Для i от 1 до n:\n",
    "  * выберем тег $z_i$ согласно распределению $\\theta_d$\n",
    "  * выберем слово $w_i$ из распределения для данного тега, т.е. $w_i \\sim \\phi_{z_i}$\n",
    "  * добавляем слово $w_i$ в текст.\n",
    "\n",
    "Полученная модель называется моделью LDA (Latent Dirichlet Allocation). Описанная  схема задает совместное распределение скрытых и наблюдаемых параметров по всем текстам корпуса размера M в виде:\n",
    "\n",
    "\n",
    "$p(\\textbf{w}, \\textbf{z}, \\theta, \\phi | \\alpha, \\beta) = Dir(\\theta | \\alpha) Dir(\\phi|\\beta)Cat(\\textbf{z}|\\theta)Cat(\\textbf{w}|\\phi_z)$.\n",
    "\n",
    "Здесь $\\textbf{w}$ и $\\textbf{z}$ обозначают вектора слов и тегов по всем текстам, $\\theta$ - набор из $\\theta_d$ для каждого документа (матрица $M\\times K$), $\\phi$ - набор из $\\phi_k$ для каждого тега (матрица $K\\times N$).\n"
   ]
  },
  {
   "cell_type": "markdown",
   "metadata": {
    "id": "D9yKUGWnXCYm"
   },
   "source": [
    "![img](https://www.researchgate.net/publication/336065245/figure/fig1/AS:807371718815752@1569503826964/Latent-Dirichlet-allocation-LDA-process-and-its-two-outputs-a-LDA-document.ppm)"
   ]
  },
  {
   "cell_type": "markdown",
   "metadata": {
    "id": "hiXKW7NQWeO8"
   },
   "source": [
    "Наша задача - восстановить распределение $p(\\textbf{z}, \\theta, \\phi | \\textbf{w}, \\alpha, \\beta)$.\n",
    "\n",
    "\n",
    "Немного упростим жизнь, и поставим себе задачей восстановить распределение $p(\\textbf{z} | \\textbf{w}, \\alpha, \\beta) = \\int\\int p(\\textbf{z}, \\theta, \\phi | \\textbf{w}, \\alpha, \\beta)\\textrm{d}\\theta\\textrm{d}\\phi$.\n",
    "\n",
    "В этот момент на помощь приходить алгоритм Gibbs Sampling. Напомним, для оценки набора парамеров $\\textbf{z} = (z_1, z_2, ..., z_m)$ используется схема:\n",
    "\n",
    "$z_i^{(t)} \\sim p(z_i^{(t)}\\ | \\ z_1=z_1^{t}, ..., z_{i-1}=z_{i-1}^{t},\n",
    "z_{i+1}=z_{i+1}^{t-1}, z_{m}=z_{m}^{t-1})$."
   ]
  },
  {
   "cell_type": "markdown",
   "metadata": {
    "id": "aQeReuG_aDI7"
   },
   "source": [
    "Условные распределения выводятся так. Сначала замечаем, что\n",
    "\n",
    "$p(z_i|\\textbf{z}_{\\hat{i}}, \\textbf{w}, \\alpha, \\beta) = \\frac{p(z_i,\\textbf{z}_{\\hat{i}}, \\textbf{w}| \\alpha, \\beta)}{p(\\textbf{z}_{\\hat{i}}, \\textbf{w}| \\alpha, \\beta)}  = \\frac{p(\\textbf{z}, \\textbf{w}| \\alpha, \\beta)}{p(\\textbf{z}_{\\hat{i}}, \\textbf{w}_{\\hat{i}}| \\alpha, \\beta)  p(w_i|\\alpha, \\beta)}$.\n",
    "\n",
    "Здесь $\\textbf{z}_{\\hat{i}}$, $\\textbf{w}_{\\hat{i}}$ - вектора без $i$-oй копмоненты. "
   ]
  },
  {
   "cell_type": "markdown",
   "metadata": {
    "id": "yA0r2c_ob2c9"
   },
   "source": [
    "Далее расписываем:\n",
    "\n",
    "$p(\\textbf{z}, \\textbf{w}| \\alpha, \\beta) = \\int\\int p(\\textbf{z}, \\textbf{w}, \\theta, \\phi| \\alpha, \\beta)\\textrm{d}\\theta\\textrm{d}\\phi = \\int\\int Dir(\\theta | \\alpha) Dir(\\phi|\\beta)Cat(\\textbf{z}|\\theta)Cat(\\textbf{w}|\\phi_z)\\textrm{d}\\theta\\textrm{d}\\phi = \n",
    "\\int Dir(\\theta | \\alpha) Cat(\\textbf{z}|\\theta)\\textrm{d}\\theta \\int Dir(\\phi|\\beta)Cat(\\textbf{w}|\\phi_z)\\textrm{d}\\phi$\n",
    "\n",
    "и обнаруживаем, что оба интеграла в последнем выражении вычисляются аналитически. Для примера первый:\n",
    "\n",
    "$\\int Dir(\\theta | \\alpha) Cat(\\textbf{z}|\\theta)\\textrm{d}\\theta = \\prod\\limits_d \\int Dir(\\theta_d | \\alpha) Cat(\\textbf{z}_d|\\theta_d)\\textrm{d}\\theta_d = \\prod\\limits_d \\int \\frac{1}{B(\\alpha)}\\prod\\limits_k \\theta_{d, k}^{\\alpha-1}\\prod\\limits_i \\theta_{d, z_i}\\textrm{d}\\theta_d = \\prod\\limits_d\\frac{1}{B(\\alpha)}\\int\\prod\\limits_k \\theta_{d, k}^{n_{d, k} + \\alpha - 1}\\textrm{d}\\theta_d = \\prod\\limits_d \\frac{B(n_{d,\\cdot} + \\alpha)}{B(\\alpha)}$.\n",
    "\n",
    "Здесь  $n_{d,k}$ - количество тэгов $k$ в тексте $d$, $n_{d,\\cdot}$ - вектор длины $K$ из этих величин.\n",
    "\n",
    "Аналогично, второй интеграл \n",
    "$\\int Dir(\\phi|\\beta)Cat(\\textbf{w}|\\phi_z)\\textrm{d}\\phi = \\prod\\limits_k \\frac{B(n_{k,\\cdot} + \\beta)}{B(\\beta)}$,\n",
    "\n",
    "где $n_{k,\\cdot}$ - вектор длины $N$ встречаемости слов внутри тэга $k$.\n",
    "\n",
    "Получаем: \n",
    "\n",
    "$p(\\textbf{z}, \\textbf{w}| \\alpha, \\beta) = \\prod\\limits_d \\frac{B(n_{d,\\cdot} + \\alpha)}{B(\\alpha)} \\prod\\limits_k \\frac{B(n_{k,\\cdot} + \\beta)}{B(\\beta)}$.\n",
    "\n",
    "Теперь\n",
    "$p(z_i|\\textbf{z}_{\\hat{i}}, \\textbf{w}, \\alpha, \\beta) \\propto \\prod\\limits_d \\frac{B(n_{d,\\cdot} + \\alpha)}{B(n_{d,\\cdot}^{\\hat{i}} + \\alpha)} \\prod\\limits_k \\frac{B(n_{k,\\cdot} + \\beta)}{B(n_{k,\\cdot}^{\\hat{i}} + \\beta)}$.\n",
    "\n",
    "Знак $\\propto$ означает пропорциональность с точностью до общего множителя $p(w_i|\\alpha, \\beta)$. Векторы $n_{d,\\cdot}^{\\hat{i}}$ и $n_{k,\\cdot}^{\\hat{i}}$ получены из векторов $n_{d,\\cdot}$ и $n_{k,\\cdot}$ после выбрасывания $z_i$. \n",
    "\n",
    "Выражение упрощается дальше, расписывая бета-функцию через гамма-функции. Напомним,\n",
    "$B(x_1, ..., x_m) = \\frac{\\Gamma(x_1)\\cdot...\\cdot\\Gamma(x_m)}{\\Gamma(x_1 + ... + x_m)}$, а также $\\Gamma(n) = (n-1)\\Gamma(n-1)$. Получим:\n",
    "\n",
    "$p(z_i=k |\\textbf{z}_{\\hat{i}}, \\textbf{w}, \\alpha, \\beta) \\propto (n_{d_i, k}^{\\hat{i}} + \\alpha_k) \\frac{n_{k, w_i}^{\\hat{i}} + \\beta_{w_i}}{\\sum\\limits_{w}(n_{k, w}^{\\hat{i}} + \\beta_{w})}$.\n"
   ]
  },
  {
   "cell_type": "markdown",
   "metadata": {
    "id": "NiYEQ_IkZUim"
   },
   "source": [
    "С этого места можно полностью собрать алгоритм моделирования плотности $p(\\textbf{z}| \\textbf{w}, \\alpha, \\beta)$. Введем  обозначение $n_k$ - количество слов, отнесенных к тегу $k$, $W$ - общее количество слов в корпусе, $\\beta_{sum} = \\sum\\limits_w\\beta_w$\n",
    "\n",
    "Алгоритм:\n",
    "\n",
    "* заведем счетчики $n_{k, w}$, $n_{d, k}$, $n_k$\n",
    "* случайным образом расставим теги словам, обновим счетчики $n_{k, w}$, $n_{d, k}$, $n_k$\n",
    "* пока не сойдемся к стационарному режиму:\n",
    "  * для каждого $i$ от 1 до $W$:\n",
    "      * для каждого $k$ от 1 до $K$:\n",
    "        * $I = I\\{z_i = k\\}$ (индикатор)\n",
    "        * вычисляем $p_k = (n_{d_i, k} + \\alpha_k - I) \\frac{n_{k, w_i} + \\beta_{w_i} - I}{n_k + \\beta_{sum} - I}$\n",
    "      * сэмплим новый $z_i$ из полученного распределения $(p_1, ..., p_K)$\n",
    "      * обновляем счетчики для учета обновленого значения $z_i$\n",
    "\n",
    "На практике удобно реализовавать так:\n",
    "\n",
    "* заведем счетчики $n_{k, w}$, $n_{d, k}$, $n_k$, заполненные нулями\n",
    "* случайным образом расставим теги словам, обновим счетчики $n_{k, w}$, $n_{d, k}$, $n_k$\n",
    "* пока не сойдемся к стационарному режиму:\n",
    "  * для каждого $i$ от 1 до $W$:\n",
    "      * $n_{d_i, z_i} \\mathrel{-}= 1$, $n_{z_i, w_i} \\mathrel{-}= 1$, $n_{z_i} \\mathrel{-}= 1$\n",
    "      * для каждого $k$ от 1 до $K$:\n",
    "        * вычисляем $p_k = (n_{d, k} + \\alpha_k) \\frac{n_{k, w_i} + \\beta_{w_i}}{n_k + \\beta_{sum}}$\n",
    "      * сэмплим новый $z_i$ из полученного распределения $(p_1, ..., p_K)$\n",
    "      * $n_{d_i, z_i} \\mathrel{+}= 1$, $n_{z_i, w_i} \\mathrel{+}= 1$, $n_{z_i} \\mathrel{+}= 1$\n",
    "\n",
    "\n",
    "\n"
   ]
  },
  {
   "cell_type": "markdown",
   "metadata": {
    "id": "eaV85RF1gd6l"
   },
   "source": [
    "Восстановив распредление для $\\textbf{z}$, можем оценить $\\theta$ и $\\phi$, о которых мы ненадолго забыли. Оценить можно, например, через матожидание по апостериорным распределениям. Получите формулы самостоятельно!"
   ]
  },
  {
   "cell_type": "markdown",
   "metadata": {
    "id": "K13WQakft3kk"
   },
   "source": [
    "Литература:\n",
    "\n",
    "http://u.cs.biu.ac.il/~89-680/darling-lda.pdf\n",
    "\n",
    "https://www.cs.cmu.edu/~mgormley/courses/10701-f16/slides/lecture20-topic-models.pdf"
   ]
  },
  {
   "cell_type": "markdown",
   "metadata": {
    "id": "S1M8TVaPiIwd"
   },
   "source": [
    "Перейдем к практике."
   ]
  },
  {
   "cell_type": "markdown",
   "metadata": {
    "id": "KKGHWSSiB1we"
   },
   "source": [
    "## Датасет\n",
    "\n",
    "Возьмем популярный датасет [20 Newsgroups](http://qwone.com/~jason/20Newsgroups/), встроенный в пакет ```sklearn```. Датасет состоит из ~20К текстов, классифицированных на 20 категорий. Датасет разбит на ```train``` и ```test```. Для загрузки используем  модуль ```fetch_20newsgroups```, в параметрах указать, что мета информацию о тексте загружать не нужно:"
   ]
  },
  {
   "cell_type": "code",
   "execution_count": 122,
   "metadata": {
    "colab": {
     "base_uri": "https://localhost:8080/",
     "height": 51
    },
    "id": "ghK1srgpB1wf",
    "outputId": "a64b1478-d337-44eb-8413-841ea0f70888"
   },
   "outputs": [],
   "source": [
    "import numpy as np\n",
    "from sklearn.datasets import fetch_20newsgroups\n",
    "\n",
    "newsgroups_train = fetch_20newsgroups(subset='train', remove=('headers', 'footers', 'quotes'))"
   ]
  },
  {
   "cell_type": "markdown",
   "metadata": {
    "id": "_BSEchmRB1wh"
   },
   "source": [
    "Выведем список категорий текстов:"
   ]
  },
  {
   "cell_type": "code",
   "execution_count": 458,
   "metadata": {
    "colab": {
     "base_uri": "https://localhost:8080/",
     "height": 363
    },
    "id": "lR3knXluB1wi",
    "outputId": "d6b41c1a-21d8-4baf-de17-f6c8f7ce8f1f"
   },
   "outputs": [
    {
     "data": {
      "text/plain": [
       "['alt.atheism',\n",
       " 'comp.graphics',\n",
       " 'comp.os.ms-windows.misc',\n",
       " 'comp.sys.ibm.pc.hardware',\n",
       " 'comp.sys.mac.hardware',\n",
       " 'comp.windows.x',\n",
       " 'misc.forsale',\n",
       " 'rec.autos',\n",
       " 'rec.motorcycles',\n",
       " 'rec.sport.baseball',\n",
       " 'rec.sport.hockey',\n",
       " 'sci.crypt',\n",
       " 'sci.electronics',\n",
       " 'sci.med',\n",
       " 'sci.space',\n",
       " 'soc.religion.christian',\n",
       " 'talk.politics.guns',\n",
       " 'talk.politics.mideast',\n",
       " 'talk.politics.misc',\n",
       " 'talk.religion.misc']"
      ]
     },
     "execution_count": 458,
     "metadata": {},
     "output_type": "execute_result"
    }
   ],
   "source": [
    "newsgroups_train.target_names"
   ]
  },
  {
   "cell_type": "markdown",
   "metadata": {
    "id": "unhqlZciB1wl"
   },
   "source": [
    "Атрибут ```traget``` хранит номера категорий для текстов из обучающей выборки:"
   ]
  },
  {
   "cell_type": "code",
   "execution_count": 124,
   "metadata": {
    "colab": {
     "base_uri": "https://localhost:8080/",
     "height": 34
    },
    "id": "PNjAq0D4B1wl",
    "outputId": "97f526ec-c9f7-466d-aee7-2df3428b26a9"
   },
   "outputs": [
    {
     "data": {
      "text/plain": [
       "array([ 7,  4,  4,  1, 14, 16, 13,  3,  2,  4])"
      ]
     },
     "execution_count": 124,
     "metadata": {},
     "output_type": "execute_result"
    }
   ],
   "source": [
    "newsgroups_train.target[:10]"
   ]
  },
  {
   "cell_type": "markdown",
   "metadata": {
    "id": "OjzuWGdBB1wp"
   },
   "source": [
    "Доступ к самим текстам через атрибут ```data```. Выведем текст и категорию случайного примера из обучающего датасета:"
   ]
  },
  {
   "cell_type": "code",
   "execution_count": 8,
   "metadata": {
    "colab": {
     "base_uri": "https://localhost:8080/",
     "height": 259
    },
    "id": "etlhxjk0B1wq",
    "outputId": "56847531-dd5f-4ad8-dcac-28c83b2a4c4b"
   },
   "outputs": [
    {
     "name": "stdout",
     "output_type": "stream",
     "text": [
      "Topic = rec.motorcycles\n",
      "\n",
      "hey... I'm pretty new to the wonderful world of motorcycles... I just\n",
      "bought\n",
      "a used 81 Kaw KZ650 CSR from a friend.... I was just wondering what kind of\n",
      "\n",
      "saddle bags I could get for it (since I know nothing about them)  are there\n",
      "bags for the gas tank?  how much would some cost, and how much do they\n",
      "hold?\n",
      "thanks for your advice!!!  I may be new to riding, but I love it\n",
      "already!!!!\n",
      ":)\n",
      "\n",
      "\n"
     ]
    }
   ],
   "source": [
    "n = 854\n",
    "print('Topic = {0}\\n'.format(newsgroups_train.target_names[newsgroups_train.target[n]]))\n",
    "print(newsgroups_train.data[n])"
   ]
  },
  {
   "cell_type": "markdown",
   "metadata": {
    "id": "fLheZ8pTB1wx"
   },
   "source": [
    "## Векторное представление текста\n",
    "\n",
    "Представим текст как вектор индикаторов вхождений слов из некоторого словаря в текст. Это простейшая модель BOF. \n",
    "\n",
    "Сформируем словарь на основе нашего набора текстов. Для этого используем модуль ```CountVectorizer```:"
   ]
  },
  {
   "cell_type": "code",
   "execution_count": 240,
   "metadata": {
    "colab": {
     "base_uri": "https://localhost:8080/",
     "height": 259
    },
    "id": "-eXBAq3SB1wy",
    "outputId": "37dca253-a58a-4390-af8f-43a8d751366d"
   },
   "outputs": [
    {
     "data": {
      "text/plain": [
       "CountVectorizer(min_df=0.002,\n",
       "                stop_words=frozenset({'a', 'about', 'above', 'across', 'after',\n",
       "                                      'afterwards', 'again', 'against', 'all',\n",
       "                                      'almost', 'alone', 'along', 'already',\n",
       "                                      'also', 'although', 'always', 'am',\n",
       "                                      'among', 'amongst', 'amoungst', 'amount',\n",
       "                                      'an', 'and', 'another', 'any', 'anyhow',\n",
       "                                      'anyone', 'anything', 'anyway',\n",
       "                                      'anywhere', ...}))"
      ]
     },
     "execution_count": 240,
     "metadata": {},
     "output_type": "execute_result"
    }
   ],
   "source": [
    "from sklearn.feature_extraction.text import CountVectorizer\n",
    "from sklearn.feature_extraction.stop_words import ENGLISH_STOP_WORDS\n",
    "\n",
    "vectorizer = CountVectorizer(lowercase=True, stop_words=ENGLISH_STOP_WORDS,\n",
    "                             analyzer='word',min_df = 0.002)\n",
    "vectorizer.fit(newsgroups_train.data)"
   ]
  },
  {
   "cell_type": "markdown",
   "metadata": {
    "id": "WYt0K78cB1w0"
   },
   "source": [
    "Количество проиндексированных слов:"
   ]
  },
  {
   "cell_type": "code",
   "execution_count": 241,
   "metadata": {
    "colab": {
     "base_uri": "https://localhost:8080/",
     "height": 34
    },
    "id": "RjjRR9cTB1w1",
    "outputId": "bd25d0e9-8c2d-437f-e49e-207ca482cc1b"
   },
   "outputs": [
    {
     "data": {
      "text/plain": [
       "5358"
      ]
     },
     "execution_count": 241,
     "metadata": {},
     "output_type": "execute_result"
    }
   ],
   "source": [
    "len(vectorizer.vocabulary_)"
   ]
  },
  {
   "cell_type": "markdown",
   "metadata": {
    "id": "rDTu6nCHB1xJ"
   },
   "source": [
    "Проиндексированные слова и их индексы:"
   ]
  },
  {
   "cell_type": "code",
   "execution_count": 363,
   "metadata": {
    "colab": {
     "base_uri": "https://localhost:8080/",
     "height": 1000
    },
    "id": "0TRxTcoeB1xK",
    "outputId": "56f0a281-46ea-488d-9763-0e288c186069"
   },
   "outputs": [
    {
     "data": {
      "text/plain": [
       "{'wondering': 5293,\n",
       " 'car': 889,\n",
       " 'saw': 4243,\n",
       " 'day': 1388,\n",
       " 'door': 1616,\n",
       " 'sports': 4573,\n",
       " 'looked': 2899,\n",
       " 'late': 2763,\n",
       " 'early': 1669,\n",
       " 'called': 860,\n",
       " 'doors': 1617,\n",
       " 'really': 3943,\n",
       " 'small': 4480,\n",
       " 'addition': 320,\n",
       " 'separate': 4338,\n",
       " 'rest': 4103,\n",
       " 'body': 752,\n",
       " 'know': 2731,\n",
       " 'model': 3133,\n",
       " 'engine': 1758,\n",
       " 'specs': 4550,\n",
       " 'years': 5344,\n",
       " 'production': 3779,\n",
       " 'history': 2354,\n",
       " 'info': 2515,\n",
       " 'looking': 2900,\n",
       " 'mail': 2941,\n",
       " 'fair': 1920,\n",
       " 'number': 3310,\n",
       " 'souls': 4521,\n",
       " 'upgraded': 5071,\n",
       " 'si': 4415,\n",
       " 'clock': 1040,\n",
       " 'shared': 4385,\n",
       " 'experiences': 1870,\n",
       " 'send': 4328,\n",
       " 'brief': 792,\n",
       " 'message': 3061,\n",
       " 'procedure': 3764,\n",
       " 'speed': 4555,\n",
       " 'cpu': 1305,\n",
       " 'rated': 3913,\n",
       " 'add': 317,\n",
       " 'cards': 891,\n",
       " 'heat': 2319,\n",
       " 'hour': 2396,\n",
       " 'usage': 5079,\n",
       " 'floppy': 2035,\n",
       " 'disk': 1570,\n",
       " 'functionality': 2116,\n",
       " '800': 234,\n",
       " 'floppies': 2034,\n",
       " 'especially': 1797,\n",
       " 'requested': 4069,\n",
       " 'days': 1389,\n",
       " 'network': 3260,\n",
       " 'knowledge': 2733,\n",
       " 'base': 644,\n",
       " 'upgrade': 5070,\n",
       " 'haven': 2301,\n",
       " 'answered': 445,\n",
       " 'thanks': 4865,\n",
       " 'folks': 2043,\n",
       " 'mac': 2929,\n",
       " 'plus': 3630,\n",
       " 'finally': 1997,\n",
       " 'gave': 2139,\n",
       " 'weekend': 5237,\n",
       " 'starting': 4602,\n",
       " 'life': 2838,\n",
       " 'way': 5224,\n",
       " '1985': 90,\n",
       " 'market': 2986,\n",
       " 'new': 3264,\n",
       " 'machine': 2930,\n",
       " 'bit': 723,\n",
       " 'sooner': 4514,\n",
       " 'intended': 2568,\n",
       " 'picking': 3569,\n",
       " 'powerbook': 3683,\n",
       " '160': 61,\n",
       " 'maybe': 3017,\n",
       " '180': 66,\n",
       " 'bunch': 828,\n",
       " 'questions': 3877,\n",
       " 'hopefully': 2383,\n",
       " 'somebody': 4506,\n",
       " 'answer': 444,\n",
       " 'does': 1605,\n",
       " 'anybody': 450,\n",
       " 'dirt': 1549,\n",
       " 'round': 4182,\n",
       " 'expected': 1864,\n",
       " 'heard': 2315,\n",
       " 'supposed': 4741,\n",
       " 'make': 2953,\n",
       " 'summer': 4727,\n",
       " 'anymore': 451,\n",
       " 'don': 1614,\n",
       " 'access': 285,\n",
       " 'rumors': 4198,\n",
       " 'price': 3733,\n",
       " 'drops': 1648,\n",
       " 'line': 2855,\n",
       " 'like': 2844,\n",
       " 'ones': 3370,\n",
       " 'duo': 1661,\n",
       " 'just': 2690,\n",
       " 'went': 5244,\n",
       " 'recently': 3957,\n",
       " 'impression': 2473,\n",
       " 'display': 1572,\n",
       " 'probably': 3760,\n",
       " 'got': 2197,\n",
       " '120': 33,\n",
       " 'feel': 1969,\n",
       " 'better': 704,\n",
       " 'looks': 2901,\n",
       " 'great': 2222,\n",
       " 'store': 4644,\n",
       " 'wow': 5316,\n",
       " 'good': 2194,\n",
       " 'opinions': 3386,\n",
       " 'people': 3520,\n",
       " 'use': 5080,\n",
       " 'worth': 5310,\n",
       " 'taking': 4782,\n",
       " 'size': 4457,\n",
       " 'money': 3148,\n",
       " 'hit': 2355,\n",
       " 'active': 306,\n",
       " 'realize': 3941,\n",
       " 'real': 3938,\n",
       " 'subjective': 4688,\n",
       " 'question': 3875,\n",
       " 've': 5124,\n",
       " 'played': 3616,\n",
       " 'machines': 2931,\n",
       " 'computer': 1142,\n",
       " 'figured': 1988,\n",
       " 'actually': 312,\n",
       " 'uses': 5087,\n",
       " 'daily': 1364,\n",
       " 'prove': 3822,\n",
       " 'helpful': 2333,\n",
       " 'perform': 3526,\n",
       " 'advance': 341,\n",
       " 'email': 1728,\n",
       " 'll': 2877,\n",
       " 'post': 3669,\n",
       " 'summary': 4726,\n",
       " 'news': 3267,\n",
       " 'reading': 3933,\n",
       " 'time': 4907,\n",
       " 'finals': 1998,\n",
       " 'corner': 1270,\n",
       " 'tom': 4925,\n",
       " 'purdue': 3853,\n",
       " 'edu': 1696,\n",
       " 'electrical': 1719,\n",
       " 'engineering': 1760,\n",
       " 'address': 322,\n",
       " 'phone': 3558,\n",
       " 'information': 2517,\n",
       " 'chip': 982,\n",
       " 'article': 527,\n",
       " 'world': 5304,\n",
       " 'std': 4622,\n",
       " 'com': 1076,\n",
       " 'understanding': 5044,\n",
       " 'errors': 1790,\n",
       " 'basically': 649,\n",
       " 'known': 2734,\n",
       " 'bugs': 818,\n",
       " 'warning': 5208,\n",
       " 'software': 4494,\n",
       " 'things': 4875,\n",
       " 'checked': 967,\n",
       " 'right': 4143,\n",
       " 'values': 5112,\n",
       " 'aren': 499,\n",
       " 'set': 4361,\n",
       " 'till': 4905,\n",
       " 'launch': 2768,\n",
       " 'fix': 2018,\n",
       " 'code': 1058,\n",
       " 'possibly': 3668,\n",
       " 'tell': 4831,\n",
       " 'crew': 1322,\n",
       " 'ok': 3365,\n",
       " '213': 114,\n",
       " 'ignore': 2438,\n",
       " 'course': 1296,\n",
       " 'term': 4843,\n",
       " 'defined': 1432,\n",
       " 'doubt': 1622,\n",
       " 'using': 5088,\n",
       " 'quote': 3883,\n",
       " 'read': 3928,\n",
       " 'argument': 506,\n",
       " 'weapons': 5231,\n",
       " 'mass': 2996,\n",
       " 'destruction': 1495,\n",
       " 'commonly': 1097,\n",
       " 'understood': 5045,\n",
       " 'switching': 4767,\n",
       " 'topics': 4937,\n",
       " 'point': 3634,\n",
       " 'allowed': 394,\n",
       " 'later': 2765,\n",
       " 'analysis': 424,\n",
       " 'given': 2172,\n",
       " 'consider': 1188,\n",
       " 'class': 1025,\n",
       " 'responded': 4097,\n",
       " 'request': 4068,\n",
       " 'treatment': 4980,\n",
       " 'couldn': 1285,\n",
       " 'thank': 4864,\n",
       " 'directly': 1545,\n",
       " 'thought': 4883,\n",
       " 'publicly': 3840,\n",
       " 'sure': 4744,\n",
       " 'glad': 2176,\n",
       " 'instead': 2547,\n",
       " 'rm': 4155,\n",
       " 'trying': 5007,\n",
       " 'delete': 1442,\n",
       " 'file': 1990,\n",
       " 'september': 4343,\n",
       " 'hmmm': 2362,\n",
       " 'shows': 4412,\n",
       " 'scsi': 4283,\n",
       " 'range': 3906,\n",
       " 'controller': 1238,\n",
       " 'burst': 836,\n",
       " 'note': 3293,\n",
       " 'increase': 2489,\n",
       " 'quadra': 3865,\n",
       " 'version': 5135,\n",
       " 'exist': 1852,\n",
       " 'pc': 3510,\n",
       " 'mode': 3132,\n",
       " '16': 60,\n",
       " 'wide': 5252,\n",
       " 'fast': 1944,\n",
       " '32': 151,\n",
       " '15': 55,\n",
       " 'data': 1378,\n",
       " 'twice': 5023,\n",
       " 'correct': 1276,\n",
       " 'reach': 3923,\n",
       " '20': 103,\n",
       " 'faster': 1945,\n",
       " 'ide': 2425,\n",
       " '96': 252,\n",
       " 'facts': 1914,\n",
       " 'posted': 3670,\n",
       " 'newsgroup': 3268,\n",
       " 'ibm': 2419,\n",
       " 'sheet': 4389,\n",
       " 'available': 605,\n",
       " 'ftp': 2111,\n",
       " 'aim': 374,\n",
       " 'stanford': 4594,\n",
       " '36': 157,\n",
       " '44': 174,\n",
       " 'report': 4055,\n",
       " 'compare': 1109,\n",
       " 'txt': 5026,\n",
       " 'problem': 3762,\n",
       " 'documented': 1600,\n",
       " 'apple': 467,\n",
       " 'said': 4217,\n",
       " 'maximum': 3015,\n",
       " 'slower': 4478,\n",
       " 'interface': 2577,\n",
       " 'think': 4876,\n",
       " 'driven': 1641,\n",
       " 'true': 5000,\n",
       " 'win': 5264,\n",
       " 'downloaded': 1626,\n",
       " 'icons': 2423,\n",
       " 'bmp': 745,\n",
       " 'figure': 1987,\n",
       " 'change': 946,\n",
       " 'help': 2331,\n",
       " 'appreciated': 477,\n",
       " 'thanx': 4866,\n",
       " 'board': 747,\n",
       " 'year': 5343,\n",
       " 'work': 5297,\n",
       " 'licensing': 2835,\n",
       " 'technologies': 4823,\n",
       " 'owners': 3432,\n",
       " 'compression': 1138,\n",
       " 'technology': 4824,\n",
       " 'writing': 5322,\n",
       " 'memory': 3047,\n",
       " 'lost': 2909,\n",
       " 'reference': 3976,\n",
       " 'wrong': 5325,\n",
       " 'problems': 3763,\n",
       " 'hard': 2286,\n",
       " 'say': 4244,\n",
       " 'fault': 1952,\n",
       " 'icon': 2422,\n",
       " 'usually': 5092,\n",
       " 'mentioned': 3051,\n",
       " 'expansion': 1861,\n",
       " 'utility': 5096,\n",
       " 'expand': 1859,\n",
       " 'compressed': 1137,\n",
       " 'unless': 5060,\n",
       " 'installed': 2543,\n",
       " 'product': 3778,\n",
       " 'unlikely': 5062,\n",
       " 'holes': 2368,\n",
       " 'related': 4005,\n",
       " 'fixed': 2019,\n",
       " 'sad': 4213,\n",
       " 'makes': 2955,\n",
       " 'buy': 845,\n",
       " 'hey': 2338,\n",
       " 'competition': 1118,\n",
       " '1978': 83,\n",
       " 'runs': 4201,\n",
       " 'paint': 3449,\n",
       " 'brown': 807,\n",
       " 'orange': 3400,\n",
       " 'oil': 3363,\n",
       " '1st': 102,\n",
       " 'shop': 4401,\n",
       " 'sold': 4497,\n",
       " 'bike': 713,\n",
       " 'owner': 3431,\n",
       " 'want': 5199,\n",
       " 'thinking': 4877,\n",
       " 'nice': 3274,\n",
       " 'stable': 4582,\n",
       " 'tx': 5025,\n",
       " 'org': 3408,\n",
       " 'dod': 1602,\n",
       " 'yep': 5346,\n",
       " 'pretty': 3726,\n",
       " 'jew': 2649,\n",
       " 'understand': 5043,\n",
       " 'jewish': 2650,\n",
       " 'jews': 2651,\n",
       " 'believe': 687,\n",
       " 'case': 905,\n",
       " 'moral': 3158,\n",
       " 'follow': 2044,\n",
       " 'mankind': 2965,\n",
       " 'decide': 1409,\n",
       " 'fall': 1924,\n",
       " 'believed': 688,\n",
       " 'required': 4072,\n",
       " 'modern': 3139,\n",
       " 'judaism': 2674,\n",
       " 'interpretation': 2584,\n",
       " 'lead': 2783,\n",
       " 'morality': 3159,\n",
       " 'essence': 1799,\n",
       " 'biblical': 709,\n",
       " 'man': 2958,\n",
       " 'christian': 992,\n",
       " 'necessarily': 3244,\n",
       " 'indicate': 2500,\n",
       " 'outside': 3427,\n",
       " 'relationship': 4010,\n",
       " 'speculate': 4552,\n",
       " 'trouble': 4997,\n",
       " 'created': 1315,\n",
       " 'image': 2449,\n",
       " 'means': 3026,\n",
       " 'different': 1531,\n",
       " 'come': 1079,\n",
       " 'conclusion': 1156,\n",
       " 'wants': 5202,\n",
       " 'script': 4280,\n",
       " 'foundation': 2084,\n",
       " 'mix': 3126,\n",
       " 'living': 2876,\n",
       " 'christ': 991,\n",
       " 'example': 1834,\n",
       " 'little': 2872,\n",
       " 'jesus': 2646,\n",
       " 'person': 3540,\n",
       " 'recorded': 3965,\n",
       " 'followers': 2046,\n",
       " 'references': 3977,\n",
       " 'revelation': 4122,\n",
       " 'aside': 531,\n",
       " 'second': 4297,\n",
       " 'hand': 2266,\n",
       " 'worse': 5307,\n",
       " 'attempt': 576,\n",
       " 'christianity': 993,\n",
       " 'initially': 2525,\n",
       " 'bible': 708,\n",
       " 'interpret': 2583,\n",
       " 'humanity': 2408,\n",
       " 'guess': 2248,\n",
       " 'faith': 1922,\n",
       " 'comes': 1080,\n",
       " 'inherent': 2521,\n",
       " 'absolute': 272,\n",
       " 'multiple': 3200,\n",
       " 'codes': 1059,\n",
       " 'founded': 2085,\n",
       " 'parent': 3467,\n",
       " 'child': 978,\n",
       " 'assume': 550,\n",
       " 'simply': 4442,\n",
       " 'told': 4923,\n",
       " 'pub': 3836,\n",
       " 'bar': 640,\n",
       " 'children': 979,\n",
       " 'quite': 3882,\n",
       " 'happy': 2285,\n",
       " 'animals': 435,\n",
       " 'analogy': 423,\n",
       " 'hold': 2364,\n",
       " 'water': 5220,\n",
       " 'knows': 2735,\n",
       " 'type': 5027,\n",
       " 'incidentally': 2481,\n",
       " 'young': 5350,\n",
       " 'considers': 1195,\n",
       " 'gets': 2164,\n",
       " 'older': 3368,\n",
       " 'david': 1385,\n",
       " 'religion': 4022,\n",
       " 'description': 1477,\n",
       " 'external': 1899,\n",
       " 'tank': 4790,\n",
       " 'option': 3397,\n",
       " 'deleted': 1443,\n",
       " 'ken': 2701,\n",
       " 'let': 2814,\n",
       " 'options': 3399,\n",
       " 'list': 2864,\n",
       " 'today': 4922,\n",
       " '23': 121,\n",
       " 'edition': 1692,\n",
       " 'york': 5349,\n",
       " 'times': 4909,\n",
       " 'reports': 4058,\n",
       " 'panel': 3457,\n",
       " 'proposals': 3810,\n",
       " 'dropped': 1647,\n",
       " 'giant': 2166,\n",
       " 'fuel': 2112,\n",
       " 'tanks': 4791,\n",
       " 'used': 5081,\n",
       " 'space': 4532,\n",
       " 'building': 820,\n",
       " 'station': 4613,\n",
       " 'existing': 1856,\n",
       " 'shuttle': 4414,\n",
       " 'wings': 5270,\n",
       " 'tail': 4779,\n",
       " 'removed': 4037,\n",
       " 'currently': 1350,\n",
       " 'considered': 1193,\n",
       " 'presented': 3714,\n",
       " 'meeting': 3040,\n",
       " 'yesterday': 5348,\n",
       " 'reported': 4056,\n",
       " 'low': 2918,\n",
       " 'cost': 1283,\n",
       " 'approach': 478,\n",
       " 'studied': 4676,\n",
       " 'team': 4813,\n",
       " 'teams': 4814,\n",
       " 'supporting': 4738,\n",
       " 'crystal': 1339,\n",
       " 'city': 1013,\n",
       " 'site': 4452,\n",
       " 'locations': 2886,\n",
       " 'helping': 2334,\n",
       " 'activities': 308,\n",
       " 'key': 2707,\n",
       " 'features': 1960,\n",
       " 'bus': 837,\n",
       " 'developed': 1506,\n",
       " 'qualified': 3866,\n",
       " 'provides': 3828,\n",
       " 'propulsion': 3814,\n",
       " 'communications': 1100,\n",
       " 'management': 2961,\n",
       " 'air': 377,\n",
       " 'force': 2060,\n",
       " 'power': 3682,\n",
       " 'capability': 881,\n",
       " 'obtained': 3331,\n",
       " 'solar': 4495,\n",
       " 'provide': 3826,\n",
       " 'vehicle': 5125,\n",
       " 'environment': 1779,\n",
       " 'missions': 3120,\n",
       " 'source': 4525,\n",
       " '30': 144,\n",
       " 'human': 2407,\n",
       " 'opposed': 3392,\n",
       " 'old': 3367,\n",
       " 'achieved': 297,\n",
       " 'common': 1096,\n",
       " 'module': 3143,\n",
       " 'modified': 3141,\n",
       " 'lab': 2740,\n",
       " 'ports': 3659,\n",
       " 'added': 318,\n",
       " 'international': 2581,\n",
       " 'partners': 3481,\n",
       " 'labs': 2744,\n",
       " 'place': 3595,\n",
       " '60': 200,\n",
       " 'modules': 3144,\n",
       " 'permanent': 3533,\n",
       " 'presence': 3711,\n",
       " '3rd': 165,\n",
       " 'assured': 557,\n",
       " 'return': 4115,\n",
       " 'freedom': 2098,\n",
       " 'derived': 1472,\n",
       " 'based': 646,\n",
       " 'mike': 3083,\n",
       " 'alot': 398,\n",
       " 'design': 1482,\n",
       " 'love': 2914,\n",
       " 'assumes': 552,\n",
       " 'assembly': 541,\n",
       " '51': 189,\n",
       " 'orbit': 3401,\n",
       " 'build': 819,\n",
       " 'occurs': 3343,\n",
       " 'initial': 2524,\n",
       " 'research': 4077,\n",
       " 'reached': 3924,\n",
       " 'adopted': 337,\n",
       " 'non': 3283,\n",
       " 'language': 2755,\n",
       " '10': 11,\n",
       " 'keeping': 2698,\n",
       " 'supply': 4735,\n",
       " '14': 46,\n",
       " '2nd': 143,\n",
       " 'control': 1236,\n",
       " 'finish': 2006,\n",
       " '24': 123,\n",
       " 'systems': 4775,\n",
       " 'exception': 1838,\n",
       " 'major': 2951,\n",
       " 'changes': 948,\n",
       " 'reduced': 3972,\n",
       " 'prices': 3735,\n",
       " 'forsale': 2078,\n",
       " 'behalf': 681,\n",
       " 'brother': 804,\n",
       " 'moving': 3187,\n",
       " 'moved': 3182,\n",
       " 'offer': 3350,\n",
       " 'black': 729,\n",
       " 'portable': 3656,\n",
       " 'purchased': 3851,\n",
       " '12': 32,\n",
       " '1000': 13,\n",
       " 'dual': 1657,\n",
       " 'cassette': 908,\n",
       " 'player': 3617,\n",
       " 'fm': 2041,\n",
       " 'band': 634,\n",
       " 'graphics': 2217,\n",
       " 'high': 2343,\n",
       " 'tape': 4793,\n",
       " 'deck': 1414,\n",
       " 'sound': 4522,\n",
       " 'bet': 702,\n",
       " '80': 233,\n",
       " '25': 126,\n",
       " 'zoom': 5357,\n",
       " 'japan': 2637,\n",
       " 'includes': 2484,\n",
       " '50': 186,\n",
       " 'hair': 2262,\n",
       " 'head': 2305,\n",
       " 'ask': 532,\n",
       " 'bag': 627,\n",
       " 'leather': 2795,\n",
       " 'brand': 784,\n",
       " 'speeds': 4556,\n",
       " 'extra': 1900,\n",
       " 'angle': 432,\n",
       " 'dry': 1652,\n",
       " 'iron': 2610,\n",
       " 'contact': 1208,\n",
       " 'reply': 4054,\n",
       " 'included': 2483,\n",
       " 'reasonable': 3946,\n",
       " 'look': 2898,\n",
       " 'happened': 2282,\n",
       " 'japanese': 2638,\n",
       " 'citizens': 1012,\n",
       " 'war': 5203,\n",
       " 'ii': 2441,\n",
       " 'prepared': 3710,\n",
       " 'stick': 4633,\n",
       " 'camp': 868,\n",
       " 'trial': 4984,\n",
       " 'short': 4402,\n",
       " 'step': 4627,\n",
       " 'nazis': 3234,\n",
       " 'originally': 3416,\n",
       " 'final': 1996,\n",
       " 'solution': 4502,\n",
       " 'afford': 352,\n",
       " 'run': 4199,\n",
       " 'camps': 871,\n",
       " 'caused': 919,\n",
       " 'total': 4942,\n",
       " 'weren': 5245,\n",
       " 'generally': 2150,\n",
       " 'died': 1525,\n",
       " 'disease': 1568,\n",
       " 'certainly': 937,\n",
       " 'tiff': 4903,\n",
       " 'works': 5301,\n",
       " 'led': 2801,\n",
       " 'programs': 3791,\n",
       " 'poor': 3649,\n",
       " 'writers': 5320,\n",
       " 'making': 2956,\n",
       " 'bizarre': 727,\n",
       " 'files': 1992,\n",
       " 'load': 2878,\n",
       " 'images': 2450,\n",
       " 'save': 4239,\n",
       " 'general': 2149,\n",
       " 'despite': 1491,\n",
       " 'fact': 1910,\n",
       " 'saying': 4245,\n",
       " 'goes': 2188,\n",
       " 'worried': 5305,\n",
       " 'abuse': 276,\n",
       " 'unnecessary': 5063,\n",
       " 'format': 2073,\n",
       " 'words': 5296,\n",
       " 'spec': 4541,\n",
       " 'page': 3445,\n",
       " 'emphasis': 1731,\n",
       " 'sort': 4517,\n",
       " 'success': 4701,\n",
       " 'designed': 1483,\n",
       " 'powerful': 3685,\n",
       " 'flexible': 2030,\n",
       " 'expense': 1866,\n",
       " 'takes': 4781,\n",
       " 'effort': 1708,\n",
       " 'handle': 2272,\n",
       " 'specification': 4546,\n",
       " 'application': 469,\n",
       " 'complete': 1127,\n",
       " 'job': 2653,\n",
       " 'able': 269,\n",
       " 'import': 2468,\n",
       " 'applications': 470,\n",
       " 'program': 3786,\n",
       " 'won': 5289,\n",
       " 'deal': 1393,\n",
       " 'reasoning': 3948,\n",
       " 'asking': 534,\n",
       " 'kind': 2718,\n",
       " 'rates': 3914,\n",
       " 'single': 4447,\n",
       " 'male': 2957,\n",
       " 'drivers': 1643,\n",
       " 'paying': 3505,\n",
       " 'performance': 3527,\n",
       " 'cars': 902,\n",
       " 'replies': 4053,\n",
       " 'received': 3953,\n",
       " '27': 134,\n",
       " 'close': 1042,\n",
       " '1992': 98,\n",
       " 'dodge': 1603,\n",
       " 'stealth': 4624,\n",
       " 'twin': 5024,\n",
       " 'turbo': 5014,\n",
       " 'tickets': 4900,\n",
       " 'accidents': 287,\n",
       " 'house': 2398,\n",
       " 'taken': 4780,\n",
       " 'defensive': 1429,\n",
       " 'driving': 1645,\n",
       " 'security': 4309,\n",
       " '1500': 57,\n",
       " '500': 187,\n",
       " 'state': 4606,\n",
       " 'farm': 1941,\n",
       " 'insurance': 2556,\n",
       " 'additional': 321,\n",
       " '100': 12,\n",
       " '000': 1,\n",
       " 'policy': 3642,\n",
       " 'standard': 4589,\n",
       " '300': 145,\n",
       " 'bought': 771,\n",
       " 'company': 1107,\n",
       " 'accident': 286,\n",
       " 'ticket': 4899,\n",
       " '11': 24,\n",
       " 'quoted': 3884,\n",
       " 'hope': 2382,\n",
       " 'helps': 2335,\n",
       " 'steve': 4631,\n",
       " 'university': 5057,\n",
       " '45': 175,\n",
       " 'kevin': 2706,\n",
       " 'correctly': 1280,\n",
       " 'asked': 533,\n",
       " 'similar': 4435,\n",
       " 'situation': 4455,\n",
       " 'age': 357,\n",
       " 'record': 3964,\n",
       " 'clean': 1029,\n",
       " 'illinois': 2447,\n",
       " 'turn': 5018,\n",
       " 'higher': 2344,\n",
       " 'rate': 3912,\n",
       " 'couple': 1295,\n",
       " 'friends': 2109,\n",
       " 'pay': 3504,\n",
       " 'companies': 1106,\n",
       " 'lucky': 2923,\n",
       " 'dan': 1371,\n",
       " 'motorola': 3175,\n",
       " 'cellular': 928,\n",
       " 'group': 2238,\n",
       " '38': 160,\n",
       " 'usa': 5078,\n",
       " 'cc': 923,\n",
       " 'live': 2873,\n",
       " 'drive': 1640,\n",
       " '89': 243,\n",
       " 'sc': 4248,\n",
       " 'claim': 1019,\n",
       " 'stop': 4639,\n",
       " 'signs': 4430,\n",
       " 'violations': 5158,\n",
       " '18': 65,\n",
       " 'months': 3155,\n",
       " 'going': 2189,\n",
       " '85': 239,\n",
       " '55': 194,\n",
       " 'failure': 1919,\n",
       " 'clear': 1031,\n",
       " 'damn': 1369,\n",
       " 'light': 2841,\n",
       " 'yellow': 5345,\n",
       " '35': 155,\n",
       " 'didn': 1523,\n",
       " 'liability': 2823,\n",
       " 'comprehensive': 1135,\n",
       " 'roughly': 4181,\n",
       " '92': 247,\n",
       " 'james': 2634,\n",
       " 'law': 2771,\n",
       " 'center': 929,\n",
       " 'disclaimer': 1558,\n",
       " 'engineer': 1759,\n",
       " 'play': 3615,\n",
       " 'calls': 862,\n",
       " 'bird': 721,\n",
       " 'hell': 2327,\n",
       " 'thing': 4874,\n",
       " 'killing': 2717,\n",
       " 'away': 614,\n",
       " 'gonna': 2193,\n",
       " '61': 203,\n",
       " 'experience': 1868,\n",
       " 'ago': 365,\n",
       " 'interesting': 2575,\n",
       " 'owned': 3430,\n",
       " 'toyota': 4950,\n",
       " 'gt': 2243,\n",
       " 'decided': 1410,\n",
       " 'gift': 2169,\n",
       " '1987': 92,\n",
       " 'liked': 2845,\n",
       " 'handling': 2275,\n",
       " 'appeal': 462,\n",
       " 'personal': 3541,\n",
       " 'ready': 3936,\n",
       " 'buying': 847,\n",
       " 'agent': 361,\n",
       " 'office': 3354,\n",
       " 'happen': 2281,\n",
       " 'slight': 4472,\n",
       " 'newer': 3265,\n",
       " 'lower': 2919,\n",
       " 'risk': 4151,\n",
       " 'division': 1588,\n",
       " 'continue': 1219,\n",
       " 'account': 291,\n",
       " 'double': 1621,\n",
       " 'story': 4649,\n",
       " 'cover': 1300,\n",
       " 'sense': 4332,\n",
       " 'book': 758,\n",
       " 'says': 4246,\n",
       " 'insure': 2557,\n",
       " 'reason': 3945,\n",
       " 'traditional': 4958,\n",
       " 'conservative': 1187,\n",
       " 'eventually': 1822,\n",
       " 'reasons': 3949,\n",
       " 'dealer': 1394,\n",
       " 'interested': 2574,\n",
       " 'tough': 4945,\n",
       " 'pressure': 3722,\n",
       " 'guy': 2256,\n",
       " 'room': 4176,\n",
       " 'equal': 1781,\n",
       " 'monthly': 3154,\n",
       " 'longer': 2897,\n",
       " 'concluded': 1155,\n",
       " 'probability': 3758,\n",
       " 'auto': 597,\n",
       " 'entitled': 1775,\n",
       " 'opinion': 3385,\n",
       " 'dt': 1655,\n",
       " 'navy': 3232,\n",
       " 'mil': 3084,\n",
       " 'imagination': 2451,\n",
       " 'important': 2470,\n",
       " '26': 132,\n",
       " 'turned': 5019,\n",
       " 'immediately': 2456,\n",
       " 'strictly': 4660,\n",
       " 'stayed': 4620,\n",
       " '150': 56,\n",
       " 'pickup': 3570,\n",
       " 'amazing': 411,\n",
       " 'felt': 1977,\n",
       " 'responsible': 4102,\n",
       " '21': 111,\n",
       " 'california': 859,\n",
       " 'violation': 5157,\n",
       " '2000': 105,\n",
       " '28': 137,\n",
       " 'vw': 5187,\n",
       " 'san': 4228,\n",
       " 'jose': 2667,\n",
       " 'getting': 2165,\n",
       " 'vs': 5184,\n",
       " 'v6': 5104,\n",
       " '1986': 91,\n",
       " 'honda': 2377,\n",
       " 'mexico': 3072,\n",
       " 'town': 4947,\n",
       " 'nearby': 3240,\n",
       " 'robert': 4159,\n",
       " 'stack': 4583,\n",
       " 'institute': 2548,\n",
       " 'transportation': 4973,\n",
       " 'studies': 4677,\n",
       " '37': 159,\n",
       " 'saturn': 4238,\n",
       " '64': 208,\n",
       " 'st': 4581,\n",
       " 'date': 1381,\n",
       " 'license': 2833,\n",
       " 'mountain': 3177,\n",
       " 'view': 5147,\n",
       " 'possible': 3667,\n",
       " '415': 171,\n",
       " '1200': 34,\n",
       " 'knock': 2729,\n",
       " 'wood': 5294,\n",
       " 'huge': 2405,\n",
       " 'difference': 1529,\n",
       " 'personally': 3543,\n",
       " 'best': 701,\n",
       " 'towns': 4948,\n",
       " 'distance': 1578,\n",
       " 'boston': 768,\n",
       " 'worst': 5309,\n",
       " '600': 201,\n",
       " '43': 173,\n",
       " '1990': 96,\n",
       " 'chicago': 976,\n",
       " 'coverage': 1301,\n",
       " 'did': 1522,\n",
       " 'miles': 3088,\n",
       " 'lived': 2874,\n",
       " '41': 170,\n",
       " '93': 248,\n",
       " 'month': 3153,\n",
       " 'thats': 4867,\n",
       " 'property': 3806,\n",
       " '250': 127,\n",
       " 'glass': 2177,\n",
       " '39': 162,\n",
       " 'seriously': 4350,\n",
       " 'listed': 2865,\n",
       " 'try': 5006,\n",
       " 'calling': 861,\n",
       " 'dealers': 1395,\n",
       " 'places': 3597,\n",
       " 'changed': 947,\n",
       " 'maintain': 2947,\n",
       " 'careful': 894,\n",
       " 'voltage': 5176,\n",
       " 'signal': 4422,\n",
       " 'output': 3424,\n",
       " 'preferably': 3705,\n",
       " 'factor': 1911,\n",
       " 'resulting': 4111,\n",
       " 'fed': 1963,\n",
       " 'easily': 1675,\n",
       " 'card': 890,\n",
       " 'circuits': 1004,\n",
       " 'seen': 4313,\n",
       " 'simple': 4440,\n",
       " 'amplifier': 421,\n",
       " 'practice': 3690,\n",
       " 'sufficiently': 4712,\n",
       " 'nicely': 3275,\n",
       " 'degrees': 1439,\n",
       " 'accuracy': 293,\n",
       " 'exact': 1829,\n",
       " 'entry': 1778,\n",
       " 'parameter': 3463,\n",
       " 'terminal': 4844,\n",
       " 'configuration': 1167,\n",
       " 'loaded': 2879,\n",
       " 'boots': 762,\n",
       " 'tcp': 4806,\n",
       " 'ip': 2607,\n",
       " 'background': 622,\n",
       " 'unix': 5058,\n",
       " 'running': 4200,\n",
       " 'mit': 3124,\n",
       " 'x11r4': 5331,\n",
       " 'sun': 4728,\n",
       " 'window': 5267,\n",
       " 'ncd': 3237,\n",
       " 'manually': 2968,\n",
       " 'login': 2893,\n",
       " 'telnet': 4834,\n",
       " 'session': 4359,\n",
       " 'tried': 4989,\n",
       " 'failed': 1916,\n",
       " 'implementation': 2461,\n",
       " 'edit': 1689,\n",
       " 'matter': 3011,\n",
       " 'containing': 1212,\n",
       " 'manuals': 2969,\n",
       " 'worthless': 5311,\n",
       " 'orders': 3406,\n",
       " 'captain': 886,\n",
       " 'traded': 4955,\n",
       " 'leafs': 2789,\n",
       " 'wasn': 5214,\n",
       " 'rick': 4135,\n",
       " 'thomas': 4880,\n",
       " 'ed': 1686,\n",
       " 'speaking': 4539,\n",
       " 'torn': 4939,\n",
       " 'jersey': 2644,\n",
       " 'claimed': 1020,\n",
       " 'flyers': 2039,\n",
       " 'oh': 3361,\n",
       " 'yeah': 5342,\n",
       " 'gretzky': 2232,\n",
       " 'oilers': 3364,\n",
       " 'catalog': 911,\n",
       " 'computing': 1144,\n",
       " 'tools': 4935,\n",
       " 'engineers': 1761,\n",
       " 'lists': 2869,\n",
       " 'hardware': 2289,\n",
       " 'packages': 3440,\n",
       " 'xt': 5335,\n",
       " 'ps': 3830,\n",
       " 'focus': 2042,\n",
       " 'pcs': 3511,\n",
       " 'presentation': 3713,\n",
       " 'free': 2097,\n",
       " 'copy': 1266,\n",
       " 'mailing': 2943,\n",
       " 'write': 5318,\n",
       " 'tons': 4930,\n",
       " 'stuff': 4680,\n",
       " 'appears': 466,\n",
       " 'buyer': 846,\n",
       " 'waste': 5215,\n",
       " 'ensure': 1768,\n",
       " ...}"
      ]
     },
     "execution_count": 363,
     "metadata": {},
     "output_type": "execute_result"
    }
   ],
   "source": [
    "vectorizer.vocabulary_"
   ]
  },
  {
   "cell_type": "markdown",
   "metadata": {
    "id": "Ki7CwruhB1xN"
   },
   "source": [
    "Индекс, например, для слова anyone:"
   ]
  },
  {
   "cell_type": "code",
   "execution_count": 359,
   "metadata": {
    "colab": {
     "base_uri": "https://localhost:8080/",
     "height": 34
    },
    "id": "N2XVuQu3B1xP",
    "outputId": "dc04f83b-482a-4598-cd3e-71f2fdcaa2fe"
   },
   "outputs": [
    {
     "data": {
      "text/plain": [
       "CountVectorizer(min_df=0.002,\n",
       "                stop_words=frozenset({'a', 'about', 'above', 'across', 'after',\n",
       "                                      'afterwards', 'again', 'against', 'all',\n",
       "                                      'almost', 'alone', 'along', 'already',\n",
       "                                      'also', 'although', 'always', 'am',\n",
       "                                      'among', 'amongst', 'amoungst', 'amount',\n",
       "                                      'an', 'and', 'another', 'any', 'anyhow',\n",
       "                                      'anyone', 'anything', 'anyway',\n",
       "                                      'anywhere', ...}))"
      ]
     },
     "execution_count": 359,
     "metadata": {},
     "output_type": "execute_result"
    }
   ],
   "source": [
    "vectorizer.vocabulary_.get('info')"
   ]
  },
  {
   "cell_type": "markdown",
   "metadata": {
    "id": "H9ckeTs2B1xT"
   },
   "source": [
    "А теперь преобразуем строку в вектор:"
   ]
  },
  {
   "cell_type": "code",
   "execution_count": 244,
   "metadata": {
    "id": "DKb4MKQBB1xU"
   },
   "outputs": [
    {
     "ename": "IndexError",
     "evalue": "index 25717 is out of bounds for axis 0 with size 5358",
     "output_type": "error",
     "traceback": [
      "\u001b[0;31m---------------------------------------------------------------------------\u001b[0m",
      "\u001b[0;31mIndexError\u001b[0m                                Traceback (most recent call last)",
      "\u001b[0;32m<ipython-input-244-16f13c443861>\u001b[0m in \u001b[0;36m<module>\u001b[0;34m\u001b[0m\n\u001b[1;32m      3\u001b[0m \u001b[0;31m#x = np.array(x)\u001b[0m\u001b[0;34m\u001b[0m\u001b[0;34m\u001b[0m\u001b[0;34m\u001b[0m\u001b[0m\n\u001b[1;32m      4\u001b[0m \u001b[0my\u001b[0m \u001b[0;34m=\u001b[0m \u001b[0mx\u001b[0m\u001b[0;34m.\u001b[0m\u001b[0mtoarray\u001b[0m\u001b[0;34m(\u001b[0m\u001b[0;34m)\u001b[0m\u001b[0;34m\u001b[0m\u001b[0;34m\u001b[0m\u001b[0m\n\u001b[0;32m----> 5\u001b[0;31m \u001b[0mprint\u001b[0m\u001b[0;34m(\u001b[0m\u001b[0my\u001b[0m\u001b[0;34m[\u001b[0m\u001b[0;36m0\u001b[0m\u001b[0;34m]\u001b[0m\u001b[0;34m[\u001b[0m\u001b[0;36m25717\u001b[0m\u001b[0;34m]\u001b[0m\u001b[0;34m)\u001b[0m\u001b[0;34m\u001b[0m\u001b[0;34m\u001b[0m\u001b[0m\n\u001b[0m\u001b[1;32m      6\u001b[0m \u001b[0;31m#matrix_freq = np.asarray(x.sum(axis=0)).ravel()\u001b[0m\u001b[0;34m\u001b[0m\u001b[0;34m\u001b[0m\u001b[0;34m\u001b[0m\u001b[0m\n\u001b[1;32m      7\u001b[0m \u001b[0;31m#final_matrix = np.array([np.array(vectorizer.get_feature_names()), matrix_freq])\u001b[0m\u001b[0;34m\u001b[0m\u001b[0;34m\u001b[0m\u001b[0;34m\u001b[0m\u001b[0m\n",
      "\u001b[0;31mIndexError\u001b[0m: index 25717 is out of bounds for axis 0 with size 5358"
     ]
    }
   ],
   "source": [
    "text = 'I was wondering if anyone out there could enlighten me on this car car I saw'\n",
    "x = vectorizer.transform([text])\n",
    "#x = np.array(x)\n",
    "y = x.toarray()\n",
    "print(y[0][25717])\n",
    "#matrix_freq = np.asarray(x.sum(axis=0)).ravel()\n",
    "#final_matrix = np.array([np.array(vectorizer.get_feature_names()), matrix_freq])"
   ]
  },
  {
   "cell_type": "markdown",
   "metadata": {
    "id": "ULWh4DvrB1xX"
   },
   "source": [
    "Какой тип имеет объект, на который указывает ```x```?"
   ]
  },
  {
   "cell_type": "code",
   "execution_count": 245,
   "metadata": {
    "colab": {
     "base_uri": "https://localhost:8080/",
     "height": 34
    },
    "id": "LSi_b4mIB1xX",
    "outputId": "8c3bbb1c-13da-4dd3-e12a-1a87058f54e2"
   },
   "outputs": [
    {
     "data": {
      "text/plain": [
       "scipy.sparse.csr.csr_matrix"
      ]
     },
     "execution_count": 245,
     "metadata": {},
     "output_type": "execute_result"
    }
   ],
   "source": [
    "type(x)"
   ]
  },
  {
   "cell_type": "markdown",
   "metadata": {
    "id": "VdVtA7GmB1xZ"
   },
   "source": [
    "Разреженная матрица!"
   ]
  },
  {
   "cell_type": "markdown",
   "metadata": {
    "id": "ugUSIc9PB1xa"
   },
   "source": [
    "### Отступление про разреженные матрицы"
   ]
  },
  {
   "cell_type": "markdown",
   "metadata": {
    "id": "OB_zLEVBB1xa"
   },
   "source": [
    "Список ненулевых элементов матрицы:"
   ]
  },
  {
   "cell_type": "code",
   "execution_count": 246,
   "metadata": {
    "colab": {
     "base_uri": "https://localhost:8080/",
     "height": 34
    },
    "id": "5ygEpbSSB1xb",
    "outputId": "def34294-ba6a-481f-8346-5502b1279db6"
   },
   "outputs": [
    {
     "data": {
      "text/plain": [
       "array([2, 1, 1])"
      ]
     },
     "execution_count": 246,
     "metadata": {},
     "output_type": "execute_result"
    }
   ],
   "source": [
    "x.data"
   ]
  },
  {
   "cell_type": "markdown",
   "metadata": {
    "id": "tejzzkvFB1xd"
   },
   "source": [
    "Индексы строк и столбцов для ненулевых элементов:"
   ]
  },
  {
   "cell_type": "code",
   "execution_count": 247,
   "metadata": {
    "colab": {
     "base_uri": "https://localhost:8080/",
     "height": 51
    },
    "id": "iYlLQ9WaB1xe",
    "outputId": "cf89901c-a082-4fc8-959c-f04dcf06eeab"
   },
   "outputs": [
    {
     "data": {
      "text/plain": [
       "(array([0, 0, 0], dtype=int32), array([ 889, 4243, 5293], dtype=int32))"
      ]
     },
     "execution_count": 247,
     "metadata": {},
     "output_type": "execute_result"
    }
   ],
   "source": [
    "x.nonzero()"
   ]
  },
  {
   "cell_type": "markdown",
   "metadata": {
    "id": "43HhCWNTB1xg"
   },
   "source": [
    "Преобразование к объекту ndarray (именно после приведения к такому виду разреженные матрицы можно подставлять в функции, например, библиотеки Numpy):"
   ]
  },
  {
   "cell_type": "code",
   "execution_count": 248,
   "metadata": {
    "colab": {
     "base_uri": "https://localhost:8080/",
     "height": 34
    },
    "id": "1U7rGrAYB1xh",
    "outputId": "5a9797a7-d8ec-4484-9daa-7f33593110ed"
   },
   "outputs": [
    {
     "data": {
      "text/plain": [
       "array([[0, 0, 0, ..., 0, 0, 0]])"
      ]
     },
     "execution_count": 248,
     "metadata": {},
     "output_type": "execute_result"
    }
   ],
   "source": [
    "x.toarray()"
   ]
  },
  {
   "cell_type": "markdown",
   "metadata": {
    "id": "rNcjGOXGB1xk"
   },
   "source": [
    "Вернемся к словарю. Раскодируем вектор ```x``` в список слов:"
   ]
  },
  {
   "cell_type": "code",
   "execution_count": 249,
   "metadata": {
    "colab": {
     "base_uri": "https://localhost:8080/",
     "height": 34
    },
    "id": "_A38zVwvB1xk",
    "outputId": "4e516746-8f3e-4cad-8c20-64d0ee8fdc8e"
   },
   "outputs": [
    {
     "data": {
      "text/plain": [
       "[array(['car', 'saw', 'wondering'], dtype='<U15')]"
      ]
     },
     "execution_count": 249,
     "metadata": {},
     "output_type": "execute_result"
    }
   ],
   "source": [
    "vectorizer.inverse_transform(x)"
   ]
  },
  {
   "cell_type": "markdown",
   "metadata": {
    "id": "P4TuPHK1B1xm"
   },
   "source": [
    "Пропало слово ```I```. Но дело в том, что по умолчанию ```CountVectorizer``` отбрасывает последовательности, короче 2 символов. На это указывает параметр ```token_pattern='(?u)\\\\b\\\\w\\\\w+\\\\b'```."
   ]
  },
  {
   "cell_type": "markdown",
   "metadata": {
    "id": "qZYK2sG_B1xn"
   },
   "source": [
    "Переведем весь набор текстов обучающего датасета в набор векторов, получим матрицу ```X_train```:"
   ]
  },
  {
   "cell_type": "code",
   "execution_count": 250,
   "metadata": {
    "colab": {
     "base_uri": "https://localhost:8080/",
     "height": 34
    },
    "id": "Uhj_aRW7B1xn",
    "outputId": "76e48a96-b2ef-4512-a807-026daf579ece"
   },
   "outputs": [],
   "source": [
    "X_train = vectorizer.fit_transform(newsgroups_train.data)"
   ]
  },
  {
   "cell_type": "code",
   "execution_count": 251,
   "metadata": {},
   "outputs": [],
   "source": [
    "u = X_train.toarray()"
   ]
  },
  {
   "cell_type": "code",
   "execution_count": 252,
   "metadata": {},
   "outputs": [
    {
     "name": "stdout",
     "output_type": "stream",
     "text": [
      "11314\n"
     ]
    }
   ],
   "source": [
    "#t = u[11314].nonzero()[0]\n",
    "print(len(u))\n",
    "w = []\n",
    "for e in range(len(u)):\n",
    "    k = []\n",
    "    t = u[e].nonzero()[0]\n",
    "    for i in range(len(t)):\n",
    "        for j in range(u[e][t[i]]):\n",
    "            k.append(t[i])\n",
    "    w.append(k)"
   ]
  },
  {
   "cell_type": "code",
   "execution_count": 253,
   "metadata": {},
   "outputs": [
    {
     "data": {
      "text/plain": [
       "(array([  55,  144,  620,  743,  859, 1758, 2248, 2331, 2377, 2843, 2877,\n",
       "        3114, 3116, 3310, 3611, 3631, 4139, 4348, 4359, 4423, 4635, 4927,\n",
       "        4952, 5018, 5251]),)"
      ]
     },
     "execution_count": 253,
     "metadata": {},
     "output_type": "execute_result"
    }
   ],
   "source": [
    "u[11313].nonzero()"
   ]
  },
  {
   "cell_type": "code",
   "execution_count": 254,
   "metadata": {},
   "outputs": [],
   "source": [
    "q = np.array(w)"
   ]
  },
  {
   "cell_type": "code",
   "execution_count": 256,
   "metadata": {},
   "outputs": [
    {
     "data": {
      "text/plain": [
       "array([list([320, 752, 860, 889, 889, 889, 889, 1388, 1616, 1617, 1669, 1758, 2354, 2515, 2731, 2763, 2899, 2900, 2941, 3133, 3779, 3943, 4103, 4243, 4338, 4480, 4550, 4573, 5293, 5344]),\n",
       "       list([234, 317, 317, 445, 644, 792, 891, 1040, 1040, 1305, 1388, 1389, 1570, 1797, 1870, 1870, 1920, 2034, 2035, 2116, 2301, 2319, 2396, 2733, 3061, 3260, 3310, 3764, 3913, 4069, 4328, 4385, 4415, 4521, 4555, 4555, 4865, 5070, 5071, 5079]),\n",
       "       list([33, 61, 61, 66, 66, 66, 66, 90, 285, 306, 312, 341, 444, 450, 450, 450, 451, 704, 723, 828, 828, 1142, 1270, 1364, 1388, 1388, 1549, 1570, 1570, 1572, 1572, 1572, 1605, 1605, 1614, 1614, 1648, 1661, 1696, 1719, 1728, 1760, 1864, 1969, 1988, 1997, 1998, 2043, 2139, 2194, 2197, 2222, 2301, 2315, 2315, 2315, 2333, 2355, 2383, 2473, 2515, 2515, 2568, 2690, 2690, 2731, 2838, 2844, 2855, 2877, 2900, 2901, 2929, 2930, 2930, 2931, 2953, 2986, 3017, 3148, 3264, 3267, 3370, 3386, 3386, 3520, 3526, 3569, 3616, 3630, 3669, 3683, 3683, 3683, 3733, 3760, 3822, 3853, 3853, 3875, 3877, 3933, 3938, 3941, 3943, 3943, 3957, 4182, 4198, 4457, 4506, 4506, 4514, 4602, 4644, 4644, 4688, 4726, 4727, 4741, 4782, 4865, 4907, 4925, 5080, 5087, 5124, 5224, 5237, 5244, 5293, 5310, 5316]),\n",
       "       ...,\n",
       "       list([212, 905, 982, 1041, 1305, 1305, 1305, 1305, 1305, 1305, 1305, 1305, 1422, 1747, 1747, 1768, 1822, 1934, 1940, 2194, 2396, 2543, 2690, 3167, 3167, 3176, 3578, 3682, 3721, 3762, 3864, 4491, 4491, 4989, 5138, 5240, 5240, 5297]),\n",
       "       list([1276, 1857, 1940, 2281, 3244, 3634, 3639, 3639, 3668, 3822, 3882, 4071, 4532, 4532, 4563, 4563, 4631, 5060, 5314, 5325]),\n",
       "       list([55, 144, 144, 620, 743, 859, 1758, 2248, 2331, 2377, 2843, 2877, 3114, 3116, 3310, 3310, 3611, 3631, 4139, 4348, 4359, 4423, 4635, 4927, 4952, 5018, 5251])],\n",
       "      dtype=object)"
      ]
     },
     "execution_count": 256,
     "metadata": {},
     "output_type": "execute_result"
    }
   ],
   "source": [
    "q"
   ]
  },
  {
   "cell_type": "code",
   "execution_count": 257,
   "metadata": {},
   "outputs": [
    {
     "data": {
      "text/plain": [
       "5089"
      ]
     },
     "execution_count": 257,
     "metadata": {},
     "output_type": "execute_result"
    }
   ],
   "source": [
    "max = 0\n",
    "for i in range (N_d):\n",
    "    if (len(q[i]) > max):\n",
    "        max = len(q[i])\n",
    "max"
   ]
  },
  {
   "cell_type": "markdown",
   "metadata": {
    "id": "DeYz7ZxuB1xs"
   },
   "source": [
    "О пользе разреженных матриц. Отношение числа ненулевых элементов ко всем элементам матрицы ```X_train```:"
   ]
  },
  {
   "cell_type": "code",
   "execution_count": 144,
   "metadata": {
    "colab": {
     "base_uri": "https://localhost:8080/",
     "height": 34
    },
    "id": "lkc9UFcTB1xt",
    "outputId": "7eba71e7-52f1-4887-d02a-fde0418ceaf4"
   },
   "outputs": [
    {
     "data": {
      "text/plain": [
       "0.024243246514787098"
      ]
     },
     "execution_count": 144,
     "metadata": {},
     "output_type": "execute_result"
    }
   ],
   "source": [
    "X_train.nnz / np.prod(X_train.shape)"
   ]
  },
  {
   "cell_type": "markdown",
   "metadata": {
    "id": "i9ZpBC7Sgauk"
   },
   "source": [
    "\n",
    "Задача: запустить модель LDA и Gibbs Sampling с числов тегов 20. Вывести топ-10 слов по каждому тегу. Соотнести полученные теги с тегами из датасета, сделать выводы. "
   ]
  },
  {
   "cell_type": "code",
   "execution_count": 463,
   "metadata": {},
   "outputs": [],
   "source": [
    "def randomInit(ndz,nzw,nz,Z,q):\n",
    "    for d, document in enumerate(q):\n",
    "        сurrent = []\n",
    "        for w in document:\n",
    "            p = np.divide(np.multiply(ndz[d, :], nzw[:, w]), nz)\n",
    "            z = np.random.multinomial(1, p / p.sum()).argmax()\n",
    "            current.append(z)\n",
    "            ndz[d, z] += 1\n",
    "            nzw[z, w] += 1\n",
    "            nz[z] += 1\n",
    "        Z.append(сurrent)"
   ]
  },
  {
   "cell_type": "code",
   "execution_count": 464,
   "metadata": {},
   "outputs": [],
   "source": [
    "def sampling(ndz,nzw,nz,Z,q):\n",
    "    for d, document in enumerate(q):\n",
    "        for i, w in enumerate(document):\n",
    "            z = Z[d][i]\n",
    "            ndz[d, z] -= 1\n",
    "            nzw[z, w] -= 1\n",
    "            nz[z] -= 1\n",
    "            p = np.divide(np.multiply(ndz[d, :], nzw[:, w]), nz)\n",
    "            z = np.random.multinomial(1, p / p.sum()).argmax()\n",
    "            Z[d][i] = z \n",
    "            ndz[d, z] += 1\n",
    "            nzw[z, w] += 1\n",
    "            nz[z] += 1"
   ]
  },
  {
   "cell_type": "code",
   "execution_count": 465,
   "metadata": {},
   "outputs": [],
   "source": [
    "def getKeysByValue(dictOfElements, valueToFind):\n",
    "    listOfKeys = list()\n",
    "    listOfItems = dictOfElements.items()\n",
    "    for item  in listOfItems:\n",
    "        if item[1] == valueToFind:\n",
    "            listOfKeys.append(item[0])\n",
    "    return  listOfKeys"
   ]
  },
  {
   "cell_type": "code",
   "execution_count": 416,
   "metadata": {},
   "outputs": [
    {
     "name": "stdout",
     "output_type": "stream",
     "text": [
      "0\n",
      "1\n",
      "2\n",
      "3\n",
      "4\n",
      "5\n",
      "6\n",
      "7\n",
      "8\n",
      "9\n",
      "10\n",
      "11\n",
      "12\n",
      "13\n",
      "14\n",
      "15\n",
      "16\n",
      "17\n",
      "18\n",
      "19\n",
      "20\n",
      "21\n",
      "22\n",
      "23\n",
      "24\n",
      "25\n",
      "26\n",
      "27\n",
      "28\n",
      "29\n",
      "30\n",
      "31\n",
      "32\n",
      "33\n",
      "34\n",
      "35\n",
      "36\n",
      "37\n",
      "38\n",
      "39\n",
      "40\n",
      "41\n",
      "42\n",
      "43\n",
      "44\n",
      "45\n",
      "46\n",
      "47\n",
      "48\n",
      "49\n"
     ]
    }
   ],
   "source": [
    "N_w = 5358\n",
    "alpha = 5\n",
    "beta = 0.1\n",
    "iterations = 50\n",
    "Z = []\n",
    "ndz = np.zeros([len(q), 20]) + alpha\n",
    "nzw = np.zeros([20, N_w]) + beta\n",
    "nz = np.zeros([20]) + N_w * beta\n",
    "\n",
    "randomInit(ndz,nzw,nz,Z,q)\n",
    "\n",
    "for i in range(0, iterations):\n",
    "    sampling(ndz,nzw,nz,Z,q)\n",
    "    print(i)"
   ]
  },
  {
   "cell_type": "code",
   "execution_count": 423,
   "metadata": {},
   "outputs": [
    {
     "name": "stdout",
     "output_type": "stream",
     "text": [
      "0\n",
      "1\n",
      "2\n",
      "3\n",
      "4\n",
      "5\n",
      "6\n",
      "7\n",
      "8\n",
      "9\n",
      "10\n",
      "11\n",
      "12\n",
      "13\n",
      "14\n",
      "15\n",
      "16\n",
      "17\n",
      "18\n",
      "19\n"
     ]
    }
   ],
   "source": [
    "topicwords = []\n",
    "maxTopicWordsNum = 10\n",
    "for z in range(0, 20):\n",
    "    print(z)\n",
    "    ids = nzw[z, :].argsort()\n",
    "    topicword = []\n",
    "    for j in ids:\n",
    "        topicword.insert(0, getKeysByValue(vectorizer.vocabulary_, j))\n",
    "    topicwords.append(topicword[ : min(10, len(topicword))])"
   ]
  },
  {
   "cell_type": "code",
   "execution_count": 461,
   "metadata": {},
   "outputs": [
    {
     "name": "stdout",
     "output_type": "stream",
     "text": [
      "0 [['com'], ['software'], ['version'], ['image'], ['using'], ['graphics'], ['mail'], ['color'], ['display'], ['dos']]\n",
      "\n",
      "\n",
      "1 [['high'], ['time'], ['new'], ['years'], ['low'], ['large'], ['earth'], ['small'], ['power'], ['point']]\n",
      "\n",
      "\n",
      "2 [['good'], ['car'], ['used'], ['interested'], ['price'], ['old'], ['like'], ['sale'], ['ground'], ['don']]\n",
      "\n",
      "\n",
      "3 [['just'], ['like'], ['make'], ['want'], ['think'], ['need'], ['better'], ['right'], ['big'], ['work']]\n",
      "\n",
      "\n",
      "4 [['ve'], ['time'], ['going'], ['don'], ['really'], ['got'], ['long'], ['way'], ['make'], ['didn']]\n",
      "\n",
      "\n",
      "5 [['new'], ['national'], ['university'], ['1993'], ['states'], ['000'], ['research'], ['american'], ['year'], ['years']]\n",
      "\n",
      "\n",
      "6 [['drive'], ['card'], ['hard'], ['bit'], ['disk'], ['scsi'], ['memory'], ['speed'], ['mac'], ['video']]\n",
      "\n",
      "\n",
      "7 [['problem'], ['does'], ['read'], ['case'], ['entry'], ['line'], ['sure'], ['problems'], ['time'], ['info']]\n",
      "\n",
      "\n",
      "8 [['does'], ['question'], ['true'], ['right'], ['evidence'], ['case'], ['example'], ['fact'], ['argument'], ['claim']]\n",
      "\n",
      "\n",
      "9 [['key'], ['government'], ['law'], ['gun'], ['public'], ['encryption'], ['chip'], ['security'], ['keys'], ['clipper']]\n",
      "\n",
      "\n",
      "10 [['just'], ['did'], ['things'], ['way'], ['day'], ['thought'], ['away'], ['remember'], ['course'], ['great']]\n",
      "\n",
      "\n",
      "11 [['know'], ['think'], ['people'], ['don'], ['say'], ['mr'], ['said'], ['ll'], ['want'], ['work']]\n",
      "\n",
      "\n",
      "12 [['max'], ['pl'], ['145'], ['thanks'], ['hi'], ['wm'], ['ah'], ['34'], ['air'], ['45']]\n",
      "\n",
      "\n",
      "13 [['like'], ['know'], ['people'], ['use'], ['help'], ['post'], ['group'], ['article'], ['don'], ['idea']]\n",
      "\n",
      "\n",
      "14 [['people'], ['said'], ['armenian'], ['israel'], ['jews'], ['war'], ['armenians'], ['turkish'], ['went'], ['killed']]\n",
      "\n",
      "\n",
      "15 [['god'], ['jesus'], ['believe'], ['life'], ['bible'], ['christian'], ['world'], ['church'], ['word'], ['people']]\n",
      "\n",
      "\n",
      "16 [['game'], ['team'], ['year'], ['db'], ['play'], ['games'], ['season'], ['period'], ['hockey'], ['league']]\n",
      "\n",
      "\n",
      "17 [['edu'], ['space'], ['available'], ['ftp'], ['list'], ['information'], ['pub'], ['send'], ['based'], ['nasa']]\n",
      "\n",
      "\n",
      "18 [['10'], ['00'], ['20'], ['15'], ['12'], ['25'], ['11'], ['16'], ['50'], ['17']]\n",
      "\n",
      "\n",
      "19 [['file'], ['use'], ['program'], ['windows'], ['window'], ['files'], ['code'], ['number'], ['mail'], ['output']]\n",
      "\n",
      "\n"
     ]
    },
    {
     "data": {
      "text/plain": [
       "['alt.atheism',\n",
       " 'comp.graphics',\n",
       " 'comp.os.ms-windows.misc',\n",
       " 'comp.sys.ibm.pc.hardware',\n",
       " 'comp.sys.mac.hardware',\n",
       " 'comp.windows.x',\n",
       " 'misc.forsale',\n",
       " 'rec.autos',\n",
       " 'rec.motorcycles',\n",
       " 'rec.sport.baseball',\n",
       " 'rec.sport.hockey',\n",
       " 'sci.crypt',\n",
       " 'sci.electronics',\n",
       " 'sci.med',\n",
       " 'sci.space',\n",
       " 'soc.religion.christian',\n",
       " 'talk.politics.guns',\n",
       " 'talk.politics.mideast',\n",
       " 'talk.politics.misc',\n",
       " 'talk.religion.misc']"
      ]
     },
     "execution_count": 461,
     "metadata": {},
     "output_type": "execute_result"
    }
   ],
   "source": [
    "for n in range (20):\n",
    "    print(n, topicwords[n])\n",
    "    print('\\n')\n",
    "newsgroups_train.target_names"
   ]
  },
  {
   "cell_type": "markdown",
   "metadata": {},
   "source": [
    "В общем, видно, что всё неплохо. Например, для топика \"атеизм\" явно подходит 15-ый набор (по словам 'god','jesus'...). И так можно для многих явно понять, какие слова к ним относятся: на хокей - 16ая, на windows - 19ая. Но для некоторых (сильно смежных по смыслу) топиков, наверное, явно определить не получится, какая строка к какому из них соответствует (например, разница между 12 и 18 наборами слов лично мне особо не видна - и они оба могут подходить к чему-то из набора comp.) "
   ]
  },
  {
   "cell_type": "code",
   "execution_count": null,
   "metadata": {},
   "outputs": [],
   "source": []
  }
 ],
 "metadata": {
  "colab": {
   "collapsed_sections": [],
   "name": "Topic Modeling",
   "provenance": []
  },
  "kernelspec": {
   "display_name": "Python 3",
   "language": "python",
   "name": "python3"
  },
  "language_info": {
   "codemirror_mode": {
    "name": "ipython",
    "version": 3
   },
   "file_extension": ".py",
   "mimetype": "text/x-python",
   "name": "python",
   "nbconvert_exporter": "python",
   "pygments_lexer": "ipython3",
   "version": "3.8.3"
  }
 },
 "nbformat": 4,
 "nbformat_minor": 1
}
