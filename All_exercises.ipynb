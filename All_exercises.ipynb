{
 "cells": [
  {
   "cell_type": "code",
   "execution_count": 1,
   "metadata": {},
   "outputs": [],
   "source": [
    "class Test:\n",
    "    @staticmethod\n",
    "    def assert_equals(a, b, *args, **kwargs):\n",
    "        assert a == b\n",
    "        print('Passed')"
   ]
  },
  {
   "cell_type": "markdown",
   "metadata": {},
   "source": [
    "https://edabit.com/challenge/PNbsQzmDR3CJ9JHkB (сложность - 3)"
   ]
  },
  {
   "cell_type": "code",
   "execution_count": 3,
   "metadata": {},
   "outputs": [],
   "source": [
    "def fact(n):\n",
    "    if n == 0:\n",
    "        return 1\n",
    "    elif n == 1:\n",
    "        return 1\n",
    "    else: return fact(n-1)*(n)"
   ]
  },
  {
   "cell_type": "code",
   "execution_count": 4,
   "metadata": {},
   "outputs": [
    {
     "name": "stdout",
     "output_type": "stream",
     "text": [
      "Passed\n",
      "Passed\n",
      "Passed\n",
      "Passed\n",
      "Passed\n",
      "Passed\n",
      "Passed\n"
     ]
    }
   ],
   "source": [
    "Test.assert_equals(fact(0), 1)\n",
    "Test.assert_equals(fact(1), 1)\n",
    "Test.assert_equals(fact(2), 2)\n",
    "Test.assert_equals(fact(3), 6)\n",
    "Test.assert_equals(fact(7), 5040)\n",
    "Test.assert_equals(fact(9), 362880)\n",
    "Test.assert_equals(fact(15), 1307674368000)"
   ]
  },
  {
   "cell_type": "markdown",
   "metadata": {},
   "source": [
    "https://edabit.com/challenge/5bYXQfpyoithnQisa (сложность - 4)"
   ]
  },
  {
   "cell_type": "code",
   "execution_count": 30,
   "metadata": {},
   "outputs": [],
   "source": [
    "def encode_morse(string):\n",
    "    morse = \"\"\n",
    "    char_to_dots = {\n",
    "  'A': '.-', 'B': '-...', 'C': '-.-.', 'D': '-..', 'E': '.', 'F': '..-.',\n",
    "  'G': '--.', 'H': '....', 'I': '..', 'J': '.---', 'K': '-.-', 'L': '.-..',\n",
    "  'M': '--', 'N': '-.', 'O': '---', 'P': '.--.', 'Q': '--.-', 'R': '.-.',\n",
    "  'S': '...', 'T': '-', 'U': '..-', 'V': '...-', 'W': '.--', 'X': '-..-',\n",
    "  'Y': '-.--', 'Z': '--..', ' ': ' ', '0': '-----',\n",
    "  '1': '.----', '2': '..---', '3': '...--', '4': '....-', '5': '.....',\n",
    "  '6': '-....', '7': '--...', '8': '---..', '9': '----.',\n",
    "  '&': '.-...', \"'\": '.----.', '@': '.--.-.', ')': '-.--.-', '(': '-.--.',\n",
    "  ':': '---...', ',': '--..--', '=': '-...-', '!': '-.-.--', '.': '.-.-.-',\n",
    "  '-': '-....-', '+': '.-.-.', '\"': '.-..-.', '?': '..--..', '/': '-..-.'\n",
    "  }\n",
    "    for l in string:\n",
    "        if l.islower():\n",
    "            l = l.upper()\n",
    "        morse += char_to_dots.get(l)\n",
    "        morse += \" \"\n",
    "    morse = morse[0:-1]\n",
    "    return morse"
   ]
  },
  {
   "cell_type": "code",
   "execution_count": 31,
   "metadata": {},
   "outputs": [
    {
     "name": "stdout",
     "output_type": "stream",
     "text": [
      "Passed\n",
      "Passed\n",
      "Passed\n",
      "Passed\n",
      "Passed\n",
      "Passed\n"
     ]
    }
   ],
   "source": [
    "Test.assert_equals(encode_morse(\"EDABBIT CHALLENGE\"), \". -.. .- -... -... .. -   -.-. .... .- .-.. .-.. . -. --. .\", \"Test 1\")\n",
    "Test.assert_equals(encode_morse(\"HELP ME !\"), \".... . .-.. .--.   -- .   -.-.--\", \"Test 2\")\n",
    "Test.assert_equals(encode_morse(\"CHALLENGE\"), \"-.-. .... .- .-.. .-.. . -. --. .\", \"Test 3\")\n",
    "Test.assert_equals(encode_morse(\"1 APPLE AND 5 CHERRY, 7 SANDWICHES, 2 TABLES, 9 INVITED GUYS ! THAT'S SO COOL...\"), \".----   .- .--. .--. .-.. .   .- -. -..   .....   -.-. .... . .-. .-. -.-- --..--   --...   ... .- -. -.. .-- .. -.-. .... . ... --..--   ..---   - .- -... .-.. . ... --..--   ----.   .. -. ...- .. - . -..   --. ..- -.-- ...   -.-.--   - .... .- - .----. ...   ... ---   -.-. --- --- .-.. .-.-.- .-.-.- .-.-.-\", \"Test 4\")\n",
    "Test.assert_equals(encode_morse(\"did you got my mail ?\"), \"-.. .. -..   -.-- --- ..-   --. --- -   -- -.--   -- .- .. .-..   ..--..\", \"Test 5\")\n",
    "Test.assert_equals(encode_morse(\"TWO THInGS TO KNOW : i FORGeT THeM :C\"), \"- .-- ---   - .... .. -. --. ...   - ---   -.- -. --- .--   ---...   ..   ..-. --- .-. --. . -   - .... . --   ---... -.-.\", \"Test 6\")"
   ]
  },
  {
   "cell_type": "markdown",
   "metadata": {},
   "source": [
    "https://edabit.com/challenge/st8mDxreMcuWxuz8c (сложность - 4)"
   ]
  },
  {
   "cell_type": "code",
   "execution_count": 32,
   "metadata": {},
   "outputs": [],
   "source": [
    "def pentagonal(n):\n",
    "    if n == 1:\n",
    "        return 1\n",
    "    else:\n",
    "        return (n-1)*5 + pentagonal(n-1)"
   ]
  },
  {
   "cell_type": "code",
   "execution_count": 33,
   "metadata": {},
   "outputs": [
    {
     "name": "stdout",
     "output_type": "stream",
     "text": [
      "Passed\n",
      "Passed\n",
      "Passed\n",
      "Passed\n",
      "Passed\n",
      "Passed\n",
      "Passed\n",
      "Passed\n",
      "Passed\n",
      "Passed\n",
      "Passed\n"
     ]
    }
   ],
   "source": [
    "Test.assert_equals(pentagonal(1), 1)\n",
    "Test.assert_equals(pentagonal(3), 16)\n",
    "Test.assert_equals(pentagonal(8), 141)\n",
    "Test.assert_equals(pentagonal(10), 226)\n",
    "Test.assert_equals(pentagonal(15), 526)\n",
    "Test.assert_equals(pentagonal(33), 2641)\n",
    "Test.assert_equals(pentagonal(43), 4516)\n",
    "Test.assert_equals(pentagonal(13), 391)\n",
    "Test.assert_equals(pentagonal(50), 6126)\n",
    "Test.assert_equals(pentagonal(62), 9456)\n",
    "Test.assert_equals(pentagonal(21), 1051)"
   ]
  },
  {
   "cell_type": "markdown",
   "metadata": {},
   "source": [
    "https://edabit.com/challenge/ehyZvt6AJF4rKFfXT (сложность - 4)"
   ]
  },
  {
   "cell_type": "code",
   "execution_count": 42,
   "metadata": {},
   "outputs": [],
   "source": [
    "def uncensor(string,letters):\n",
    "    unc = \"\"\n",
    "    if letters == \"\":\n",
    "        return string\n",
    "    for l in string:\n",
    "        if l == \"*\":\n",
    "            unc += letters[0]\n",
    "            letters = letters[1:]\n",
    "        else:\n",
    "            unc += l\n",
    "    return unc"
   ]
  },
  {
   "cell_type": "code",
   "execution_count": 43,
   "metadata": {},
   "outputs": [
    {
     "name": "stdout",
     "output_type": "stream",
     "text": [
      "Passed\n",
      "Passed\n",
      "Passed\n",
      "Passed\n",
      "Passed\n"
     ]
    }
   ],
   "source": [
    "Test.assert_equals(uncensor('Wh*r* d*d my v*w*ls g*?', 'eeioeo'), 'Where did my vowels go?')\n",
    "Test.assert_equals(uncensor('abcd', ''), 'abcd', 'Works with no vowels.')\n",
    "Test.assert_equals(uncensor('*PP*RC*S*', 'UEAE'), 'UPPERCASE', 'Works with uppercase')\n",
    "Test.assert_equals(uncensor('Ch**s*, Gr*mm*t -- ch**s*', 'eeeoieee'), 'Cheese, Grommit -- cheese', 'Works with * at the end')\n",
    "Test.assert_equals(uncensor('*l*ph*nt', 'Eea'), 'Elephant', 'Works with * at the start')"
   ]
  },
  {
   "cell_type": "code",
   "execution_count": null,
   "metadata": {},
   "outputs": [],
   "source": []
  }
 ],
 "metadata": {
  "kernelspec": {
   "display_name": "Python 3",
   "language": "python",
   "name": "python3"
  },
  "language_info": {
   "codemirror_mode": {
    "name": "ipython",
    "version": 3
   },
   "file_extension": ".py",
   "mimetype": "text/x-python",
   "name": "python",
   "nbconvert_exporter": "python",
   "pygments_lexer": "ipython3",
   "version": "3.8.3"
  }
 },
 "nbformat": 4,
 "nbformat_minor": 4
}
